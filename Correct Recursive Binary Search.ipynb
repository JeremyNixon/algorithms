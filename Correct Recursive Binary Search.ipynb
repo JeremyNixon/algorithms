{
 "cells": [
  {
   "cell_type": "code",
   "execution_count": 9,
   "metadata": {
    "collapsed": false
   },
   "outputs": [
    {
     "name": "stdout",
     "output_type": "stream",
     "text": [
      "[0, 8, 16, 24, 32, 40, 48, 56, 64, 72, 80, 88, 96, 104, 112, 120, 128, 136, 144, 152, 160, 168, 176, 184, 192, 200, 208, 216, 224, 232, 240, 248, 256, 264, 272, 280, 288, 296, 304, 312, 320, 328, 336, 344, 352, 360, 368, 376, 384, 392]\n"
     ]
    }
   ],
   "source": [
    "array = []\n",
    "for i in range(0,400,8):\n",
    "    array.append(i)\n",
    "print array"
   ]
  },
  {
   "cell_type": "code",
   "execution_count": 61,
   "metadata": {
    "collapsed": false
   },
   "outputs": [],
   "source": [
    "def binary_search(array, element, low = 0, high = len(array)-1):\n",
    "    # We assume that the array is already sorted.\n",
    "    \n",
    "    # We check that the element is not in the array\n",
    "    \n",
    "    if low > high:\n",
    "        return -1\n",
    "    \n",
    "    #Recursive call must happen for each split, called with different low and high indicies than the current call\n",
    "    \n",
    "    # mid calculates the floor of the array split in half - example, I always take the 3rd element in a length 7 array\n",
    "    \n",
    "    mid = (low+high)/2\n",
    "    \n",
    "    # We check for whether our middle element is above or below the element we're looking for.\n",
    "    # If the middle element is higher, make it the ceiling. If lower, make the middle element the floor.\n",
    "    \n",
    "    if array[mid] == element:\n",
    "        return mid\n",
    "    \n",
    "    \n",
    "    if array[mid] > element:\n",
    "        return binary_search(array, element, low, mid-1)\n",
    "    elif array[mid] < element: \n",
    "        return binary_search(array, element, mid+1, high)\n",
    "    \n",
    "    \n",
    "    return -1"
   ]
  },
  {
   "cell_type": "code",
   "execution_count": 62,
   "metadata": {
    "collapsed": false
   },
   "outputs": [
    {
     "data": {
      "text/plain": [
       "-1"
      ]
     },
     "execution_count": 62,
     "metadata": {},
     "output_type": "execute_result"
    }
   ],
   "source": [
    "binary_search(array, 5)"
   ]
  },
  {
   "cell_type": "code",
   "execution_count": null,
   "metadata": {
    "collapsed": true
   },
   "outputs": [],
   "source": []
  },
  {
   "cell_type": "code",
   "execution_count": null,
   "metadata": {
    "collapsed": true
   },
   "outputs": [],
   "source": []
  }
 ],
 "metadata": {
  "kernelspec": {
   "display_name": "Python 2",
   "language": "python",
   "name": "python2"
  },
  "language_info": {
   "codemirror_mode": {
    "name": "ipython",
    "version": 2
   },
   "file_extension": ".py",
   "mimetype": "text/x-python",
   "name": "python",
   "nbconvert_exporter": "python",
   "pygments_lexer": "ipython2",
   "version": "2.7.9"
  }
 },
 "nbformat": 4,
 "nbformat_minor": 0
}
