{
 "metadata": {
  "name": "",
  "signature": "sha256:c677242313b30bbcbef06dde5c5c7e3570e1db600014738653e7e097390513c4"
 },
 "nbformat": 3,
 "nbformat_minor": 0,
 "worksheets": [
  {
   "cells": [
    {
     "cell_type": "code",
     "collapsed": false,
     "input": [
      "graph = {'A': set(['B', 'C']),\n",
      "         'B': set(['A', 'D', 'E']),\n",
      "         'C': set(['A', 'F']),\n",
      "         'D': set(['B']),\n",
      "         'E': set(['B', 'F']),\n",
      "         'F': set(['C', 'E'])}"
     ],
     "language": "python",
     "metadata": {},
     "outputs": [],
     "prompt_number": 1
    },
    {
     "cell_type": "code",
     "collapsed": false,
     "input": [
      "graph"
     ],
     "language": "python",
     "metadata": {},
     "outputs": [
      {
       "metadata": {},
       "output_type": "pyout",
       "prompt_number": 2,
       "text": [
        "{'A': {'B', 'C'},\n",
        " 'B': {'A', 'D', 'E'},\n",
        " 'C': {'A', 'F'},\n",
        " 'D': {'B'},\n",
        " 'E': {'B', 'F'},\n",
        " 'F': {'C', 'E'}}"
       ]
      }
     ],
     "prompt_number": 2
    },
    {
     "cell_type": "code",
     "collapsed": false,
     "input": [
      "type(graph)"
     ],
     "language": "python",
     "metadata": {},
     "outputs": [
      {
       "metadata": {},
       "output_type": "pyout",
       "prompt_number": 3,
       "text": [
        "dict"
       ]
      }
     ],
     "prompt_number": 3
    },
    {
     "cell_type": "code",
     "collapsed": false,
     "input": [],
     "language": "python",
     "metadata": {},
     "outputs": []
    }
   ],
   "metadata": {}
  }
 ]
}