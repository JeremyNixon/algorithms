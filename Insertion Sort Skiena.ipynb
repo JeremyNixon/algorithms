{
 "cells": [
  {
   "cell_type": "code",
   "execution_count": 2,
   "metadata": {
    "collapsed": true
   },
   "outputs": [],
   "source": [
    "import numpy as np"
   ]
  },
  {
   "cell_type": "code",
   "execution_count": 5,
   "metadata": {
    "collapsed": false
   },
   "outputs": [
    {
     "name": "stdout",
     "output_type": "stream",
     "text": [
      "[35 38 11 39 29 23 15 38  9  1  4 26 30 37 30 17 11 19  5 27]\n"
     ]
    }
   ],
   "source": [
    "array = np.random.random_integers(0,40,20)\n",
    "print array"
   ]
  },
  {
   "cell_type": "code",
   "execution_count": 7,
   "metadata": {
    "collapsed": false
   },
   "outputs": [],
   "source": [
    "def insertion_sort(array):\n",
    "    for i in range(len(array)):\n",
    "        j = i\n",
    "        while(j > 0):\n",
    "            if array[j] < array[j-1]:\n",
    "                \n",
    "                #swap\n",
    "                temp = array[j]\n",
    "                array[j] = array[j-1]\n",
    "                array[j-1] = temp\n",
    "                \n",
    "            j -=1\n",
    "    print array\n",
    "                \n",
    "            "
   ]
  },
  {
   "cell_type": "code",
   "execution_count": 8,
   "metadata": {
    "collapsed": false
   },
   "outputs": [
    {
     "name": "stdout",
     "output_type": "stream",
     "text": [
      "[ 1  4  5  9 11 11 15 17 19 23 26 27 29 30 30 35 37 38 38 39]\n"
     ]
    }
   ],
   "source": [
    "insertion_sort(array)"
   ]
  },
  {
   "cell_type": "code",
   "execution_count": null,
   "metadata": {
    "collapsed": true
   },
   "outputs": [],
   "source": []
  }
 ],
 "metadata": {
  "kernelspec": {
   "display_name": "Python 2",
   "language": "python",
   "name": "python2"
  },
  "language_info": {
   "codemirror_mode": {
    "name": "ipython",
    "version": 2
   },
   "file_extension": ".py",
   "mimetype": "text/x-python",
   "name": "python",
   "nbconvert_exporter": "python",
   "pygments_lexer": "ipython2",
   "version": "2.7.9"
  }
 },
 "nbformat": 4,
 "nbformat_minor": 0
}
