{
 "metadata": {
  "name": "",
  "signature": "sha256:dfd924a710850dae87f592264a83d3f2871ae65f5d0cc9bed95c1cd961fc4e21"
 },
 "nbformat": 3,
 "nbformat_minor": 0,
 "worksheets": [
  {
   "cells": [
    {
     "cell_type": "code",
     "collapsed": false,
     "input": [
      "import numpy as np"
     ],
     "language": "python",
     "metadata": {},
     "outputs": [],
     "prompt_number": 1
    },
    {
     "cell_type": "code",
     "collapsed": false,
     "input": [
      "arr = np.random.randint(1,20,15)\n",
      "arr.sort()\n",
      "arr"
     ],
     "language": "python",
     "metadata": {},
     "outputs": [
      {
       "metadata": {},
       "output_type": "pyout",
       "prompt_number": 13,
       "text": [
        "array([ 2,  3,  4,  5,  5,  9, 10, 13, 13, 14, 15, 15, 16, 17, 17])"
       ]
      }
     ],
     "prompt_number": 13
    },
    {
     "cell_type": "code",
     "collapsed": false,
     "input": [
      "def bsearch(arr, element):\n",
      "    minElement = 0\n",
      "    maxElement = len(arr)-1\n",
      "    while(minElement < maxElement):\n",
      "        print(minElement, maxElement)\n",
      "        mid = (minElement+maxElement)//2\n",
      "        if(arr[mid] == element):\n",
      "            return mid\n",
      "        elif(arr[mid] < element):\n",
      "            minElement = mid+1\n",
      "        elif(arr[mid] > element):\n",
      "            maxElement = mid-1\n",
      "    return -1"
     ],
     "language": "python",
     "metadata": {},
     "outputs": [],
     "prompt_number": 20
    },
    {
     "cell_type": "code",
     "collapsed": false,
     "input": [
      "bsearch(arr, 12)"
     ],
     "language": "python",
     "metadata": {},
     "outputs": [
      {
       "output_type": "stream",
       "stream": "stdout",
       "text": [
        "(0, 14)\n",
        "(0, 6)\n",
        "(4, 6)\n"
       ]
      },
      {
       "metadata": {},
       "output_type": "pyout",
       "prompt_number": 21,
       "text": [
        "-1"
       ]
      }
     ],
     "prompt_number": 21
    },
    {
     "cell_type": "code",
     "collapsed": false,
     "input": [],
     "language": "python",
     "metadata": {},
     "outputs": []
    }
   ],
   "metadata": {}
  }
 ]
}