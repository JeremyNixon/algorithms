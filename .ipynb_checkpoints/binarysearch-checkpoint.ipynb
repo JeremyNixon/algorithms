{
 "metadata": {
  "name": "",
  "signature": "sha256:3fcb5a68f829cca4262b4e32bb13217e2a4b9f64e391c376a17ad4b168f194ad"
 },
 "nbformat": 3,
 "nbformat_minor": 0,
 "worksheets": [
  {
   "cells": [
    {
     "cell_type": "code",
     "collapsed": false,
     "input": [],
     "language": "python",
     "metadata": {},
     "outputs": [],
     "prompt_number": 1
    },
    {
     "cell_type": "code",
     "collapsed": false,
     "input": [
      "l = []\n",
      "for i in range(1,100,3):\n",
      "    l.append(i)"
     ],
     "language": "python",
     "metadata": {},
     "outputs": [],
     "prompt_number": 3
    },
    {
     "cell_type": "code",
     "collapsed": false,
     "input": [
      "def binarySearch(l, num):\n",
      "    mid = len(l)/2 #gives floor of number\n",
      "    top = len(l)\n",
      "    bottom = 0\n",
      "    while(bottom-top < 0):\n",
      "        if(l[mid] < num):\n",
      "            bottom = mid\n",
      "            mid = (top+bottom)/2\n",
      "        elif(l[mid] > num):\n",
      "            top = mid\n",
      "            mid = mid = (top+bottom)/2\n",
      "        else:\n",
      "            return mid\n",
      "    return -1"
     ],
     "language": "python",
     "metadata": {},
     "outputs": [],
     "prompt_number": 19
    },
    {
     "cell_type": "code",
     "collapsed": false,
     "input": [
      "binarySearch(l,55)"
     ],
     "language": "python",
     "metadata": {},
     "outputs": [
      {
       "metadata": {},
       "output_type": "pyout",
       "prompt_number": 20,
       "text": [
        "18"
       ]
      }
     ],
     "prompt_number": 20
    },
    {
     "cell_type": "code",
     "collapsed": false,
     "input": [
      "def binary_search(l, value):\n",
      "    low = 0\n",
      "    high = len(l)-1\n",
      "    while low <= high: \n",
      "        mid = (low+high)//2\n",
      "        if l[mid] > value: high = mid-1\n",
      "        elif l[mid] < value: low = mid+1\n",
      "        else: return mid\n",
      "    return -1"
     ],
     "language": "python",
     "metadata": {},
     "outputs": []
    }
   ],
   "metadata": {}
  }
 ]
}