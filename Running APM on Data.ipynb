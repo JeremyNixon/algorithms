{
 "cells": [
  {
   "cell_type": "code",
   "execution_count": 2,
   "metadata": {
    "collapsed": true
   },
   "outputs": [],
   "source": [
    "import pandas as pd\n",
    "import numpy as np\n",
    "import zipfile\n",
    "import matplotlib.pyplot as plt\n",
    "from sklearn import ensemble\n",
    "from sklearn import svm\n",
    "%matplotlib inline\n",
    "from collections import Counter\n",
    "import sklearn.cross_validation\n",
    "import math\n",
    "import sys\n",
    "from sklearn.preprocessing import OneHotEncoder"
   ]
  },
  {
   "cell_type": "code",
   "execution_count": 3,
   "metadata": {
    "collapsed": true
   },
   "outputs": [],
   "source": [
    "def RMSE(predictions, actual):\n",
    "    squared_error = (predictions - actual)**2\n",
    "    MSE = squared_error.mean()\n",
    "    RMSE = math.sqrt(MSE)\n",
    "    return RMSE\n",
    "\n",
    "def MAE(predictions, actual):\n",
    "    MAE = (abs(predictions-y_test).mean())\n",
    "    return MAE"
   ]
  },
  {
   "cell_type": "code",
   "execution_count": 6,
   "metadata": {
    "collapsed": false
   },
   "outputs": [
    {
     "name": "stdout",
     "output_type": "stream",
     "text": [
      "Housing Price Modeling.ipynb  Running APM on Data.ipynb     data_sci_snippet.csv.zip\r\n",
      "Memoizer.ipynb                Wikipedia n-grams.ipynb\r\n"
     ]
    }
   ],
   "source": [
    "ls"
   ]
  },
  {
   "cell_type": "code",
   "execution_count": 10,
   "metadata": {
    "collapsed": false
   },
   "outputs": [],
   "source": [
    "import pandas as pd\n",
    "import numpy as np\n",
    "\n",
    "def one_hot_code_strings(df):\n",
    "    count = 0\n",
    "    for i in df:\n",
    "        if type(df[i][0]) is str:\n",
    "            print i\n",
    "            if i == 'PublicRemarks':\n",
    "                break\n",
    "            sys.stdout.flush()\n",
    "            dummies = pd.get_dummies(df[i])\n",
    "            for j in dummies:\n",
    "                name = 'one_hot_coded_' + str(count)\n",
    "                df[name] = dummies[j]\n",
    "                count += 1\n",
    "    t = df\n",
    "    for i in t:\n",
    "        if type(t[i][0]) is str:\n",
    "            t = t.drop(i, 1)\n",
    "    df = t\n",
    "    return df"
   ]
  },
  {
   "cell_type": "code",
   "execution_count": 11,
   "metadata": {
    "collapsed": false
   },
   "outputs": [
    {
     "name": "stdout",
     "output_type": "stream",
     "text": [
      "Pool\n",
      "ListDate\n",
      "PublicRemarks\n"
     ]
    },
    {
     "data": {
      "text/html": [
       "<div style=\"max-height:1000px;max-width:1500px;overflow:auto;\">\n",
       "<table border=\"1\" class=\"dataframe\">\n",
       "  <thead>\n",
       "    <tr style=\"text-align: right;\">\n",
       "      <th></th>\n",
       "      <th>ListingId</th>\n",
       "      <th>LivingArea</th>\n",
       "      <th>NumBedrooms</th>\n",
       "      <th>NumBaths</th>\n",
       "      <th>ExteriorStories</th>\n",
       "      <th>ListPrice</th>\n",
       "      <th>GeoLat</th>\n",
       "      <th>GeoLon</th>\n",
       "      <th>CloseDate</th>\n",
       "      <th>ClosePrice</th>\n",
       "      <th>...</th>\n",
       "      <th>one_hot_coded_178</th>\n",
       "      <th>one_hot_coded_179</th>\n",
       "      <th>one_hot_coded_180</th>\n",
       "      <th>one_hot_coded_181</th>\n",
       "      <th>one_hot_coded_182</th>\n",
       "      <th>one_hot_coded_183</th>\n",
       "      <th>one_hot_coded_184</th>\n",
       "      <th>one_hot_coded_185</th>\n",
       "      <th>one_hot_coded_186</th>\n",
       "      <th>one_hot_coded_187</th>\n",
       "    </tr>\n",
       "  </thead>\n",
       "  <tbody>\n",
       "    <tr>\n",
       "      <th>0</th>\n",
       "      <td> 5077399</td>\n",
       "      <td> 3054</td>\n",
       "      <td> 4</td>\n",
       "      <td> 2.5</td>\n",
       "      <td> 1</td>\n",
       "      <td> 675000</td>\n",
       "      <td> 33.593239</td>\n",
       "      <td>-111.961056</td>\n",
       "      <td>        NaN</td>\n",
       "      <td>    NaN</td>\n",
       "      <td>...</td>\n",
       "      <td> 0</td>\n",
       "      <td> 0</td>\n",
       "      <td> 0</td>\n",
       "      <td> 0</td>\n",
       "      <td> 0</td>\n",
       "      <td> 0</td>\n",
       "      <td> 0</td>\n",
       "      <td> 0</td>\n",
       "      <td> 0</td>\n",
       "      <td> 0</td>\n",
       "    </tr>\n",
       "    <tr>\n",
       "      <th>1</th>\n",
       "      <td> 5077408</td>\n",
       "      <td> 2230</td>\n",
       "      <td> 4</td>\n",
       "      <td> 2.0</td>\n",
       "      <td> 1</td>\n",
       "      <td> 475000</td>\n",
       "      <td> 33.650984</td>\n",
       "      <td>-111.963151</td>\n",
       "      <td> 2014-06-24</td>\n",
       "      <td> 460000</td>\n",
       "      <td>...</td>\n",
       "      <td> 0</td>\n",
       "      <td> 0</td>\n",
       "      <td> 0</td>\n",
       "      <td> 0</td>\n",
       "      <td> 0</td>\n",
       "      <td> 0</td>\n",
       "      <td> 0</td>\n",
       "      <td> 0</td>\n",
       "      <td> 0</td>\n",
       "      <td> 0</td>\n",
       "    </tr>\n",
       "  </tbody>\n",
       "</table>\n",
       "<p>2 rows × 198 columns</p>\n",
       "</div>"
      ],
      "text/plain": [
       "   ListingId  LivingArea  NumBedrooms  NumBaths  ExteriorStories  ListPrice  \\\n",
       "0    5077399        3054            4       2.5                1     675000   \n",
       "1    5077408        2230            4       2.0                1     475000   \n",
       "\n",
       "      GeoLat      GeoLon   CloseDate  ClosePrice        ...          \\\n",
       "0  33.593239 -111.961056         NaN         NaN        ...           \n",
       "1  33.650984 -111.963151  2014-06-24      460000        ...           \n",
       "\n",
       "   one_hot_coded_178  one_hot_coded_179  one_hot_coded_180  one_hot_coded_181  \\\n",
       "0                  0                  0                  0                  0   \n",
       "1                  0                  0                  0                  0   \n",
       "\n",
       "   one_hot_coded_182  one_hot_coded_183  one_hot_coded_184  one_hot_coded_185  \\\n",
       "0                  0                  0                  0                  0   \n",
       "1                  0                  0                  0                  0   \n",
       "\n",
       "   one_hot_coded_186  one_hot_coded_187  \n",
       "0                  0                  0  \n",
       "1                  0                  0  \n",
       "\n",
       "[2 rows x 198 columns]"
      ]
     },
     "execution_count": 11,
     "metadata": {},
     "output_type": "execute_result"
    }
   ],
   "source": [
    "data = pd.read_csv(zipfile.ZipFile('data_sci_snippet.csv.zip').open('data_sci_snippet.csv'))\n",
    "# Convert categorical variables to floats for modeling\n",
    "data = one_hot_code_strings(data)\n",
    "\n",
    "# data['PoolFloat'] = pd.Series(data['Pool'], dtype ='category').cat.rename_categories(range(len(Counter(data['Pool']))))\n",
    "# data['ListingStatusFloat'] = pd.Series(data['ListingStatus'], dtype ='category').cat.rename_categories(range(len(Counter(data['ListingStatus']))))\n",
    "# data['DwellingTypeFloat'] = pd.Series(data['DwellingType'], dtype ='category').cat.rename_categories(range(len(Counter(data['DwellingType']))))\n",
    "data[:2]"
   ]
  },
  {
   "cell_type": "code",
   "execution_count": null,
   "metadata": {
    "collapsed": false
   },
   "outputs": [],
   "source": [
    "pool_data = list(data['PoolFloat'])\n",
    "plt.hist(pool_data)"
   ]
  },
  {
   "cell_type": "code",
   "execution_count": 66,
   "metadata": {
    "collapsed": false
   },
   "outputs": [
    {
     "ename": "ValueError",
     "evalue": "need more than 1 value to unpack",
     "output_type": "error",
     "traceback": [
      "\u001b[0;31m---------------------------------------------------------------------------\u001b[0m",
      "\u001b[0;31mValueError\u001b[0m                                Traceback (most recent call last)",
      "\u001b[0;32m<ipython-input-66-c8faf8164373>\u001b[0m in \u001b[0;36m<module>\u001b[0;34m()\u001b[0m\n\u001b[1;32m      1\u001b[0m \u001b[0mencoder\u001b[0m \u001b[0;34m=\u001b[0m \u001b[0mOneHotEncoder\u001b[0m\u001b[0;34m(\u001b[0m\u001b[0;34m)\u001b[0m\u001b[0;34m\u001b[0m\u001b[0m\n\u001b[0;32m----> 2\u001b[0;31m \u001b[0mencoder\u001b[0m\u001b[0;34m.\u001b[0m\u001b[0mfit\u001b[0m\u001b[0;34m(\u001b[0m\u001b[0mdata\u001b[0m\u001b[0;34m[\u001b[0m\u001b[0;34m'PoolFloat'\u001b[0m\u001b[0;34m]\u001b[0m\u001b[0;34m)\u001b[0m\u001b[0;34m\u001b[0m\u001b[0m\n\u001b[0m",
      "\u001b[0;32m/Users/jeremynixon/anaconda/lib/python2.7/site-packages/sklearn/preprocessing/data.pyc\u001b[0m in \u001b[0;36mfit\u001b[0;34m(self, X, y)\u001b[0m\n\u001b[1;32m    996\u001b[0m         \u001b[0mself\u001b[0m\u001b[0;34m\u001b[0m\u001b[0m\n\u001b[1;32m    997\u001b[0m         \"\"\"\n\u001b[0;32m--> 998\u001b[0;31m         \u001b[0mself\u001b[0m\u001b[0;34m.\u001b[0m\u001b[0mfit_transform\u001b[0m\u001b[0;34m(\u001b[0m\u001b[0mX\u001b[0m\u001b[0;34m)\u001b[0m\u001b[0;34m\u001b[0m\u001b[0m\n\u001b[0m\u001b[1;32m    999\u001b[0m         \u001b[0;32mreturn\u001b[0m \u001b[0mself\u001b[0m\u001b[0;34m\u001b[0m\u001b[0m\n\u001b[1;32m   1000\u001b[0m \u001b[0;34m\u001b[0m\u001b[0m\n",
      "\u001b[0;32m/Users/jeremynixon/anaconda/lib/python2.7/site-packages/sklearn/preprocessing/data.pyc\u001b[0m in \u001b[0;36mfit_transform\u001b[0;34m(self, X, y)\u001b[0m\n\u001b[1;32m   1052\u001b[0m         \"\"\"\n\u001b[1;32m   1053\u001b[0m         return _transform_selected(X, self._fit_transform,\n\u001b[0;32m-> 1054\u001b[0;31m                                    self.categorical_features, copy=True)\n\u001b[0m\u001b[1;32m   1055\u001b[0m \u001b[0;34m\u001b[0m\u001b[0m\n\u001b[1;32m   1056\u001b[0m     \u001b[0;32mdef\u001b[0m \u001b[0m_transform\u001b[0m\u001b[0;34m(\u001b[0m\u001b[0mself\u001b[0m\u001b[0;34m,\u001b[0m \u001b[0mX\u001b[0m\u001b[0;34m)\u001b[0m\u001b[0;34m:\u001b[0m\u001b[0;34m\u001b[0m\u001b[0m\n",
      "\u001b[0;32m/Users/jeremynixon/anaconda/lib/python2.7/site-packages/sklearn/preprocessing/data.pyc\u001b[0m in \u001b[0;36m_transform_selected\u001b[0;34m(X, transform, selected, copy)\u001b[0m\n\u001b[1;32m    870\u001b[0m     \"\"\"\n\u001b[1;32m    871\u001b[0m     \u001b[0;32mif\u001b[0m \u001b[0mselected\u001b[0m \u001b[0;34m==\u001b[0m \u001b[0;34m\"all\"\u001b[0m\u001b[0;34m:\u001b[0m\u001b[0;34m\u001b[0m\u001b[0m\n\u001b[0;32m--> 872\u001b[0;31m         \u001b[0;32mreturn\u001b[0m \u001b[0mtransform\u001b[0m\u001b[0;34m(\u001b[0m\u001b[0mX\u001b[0m\u001b[0;34m)\u001b[0m\u001b[0;34m\u001b[0m\u001b[0m\n\u001b[0m\u001b[1;32m    873\u001b[0m \u001b[0;34m\u001b[0m\u001b[0m\n\u001b[1;32m    874\u001b[0m     \u001b[0mX\u001b[0m \u001b[0;34m=\u001b[0m \u001b[0matleast2d_or_csc\u001b[0m\u001b[0;34m(\u001b[0m\u001b[0mX\u001b[0m\u001b[0;34m,\u001b[0m \u001b[0mcopy\u001b[0m\u001b[0;34m=\u001b[0m\u001b[0mcopy\u001b[0m\u001b[0;34m)\u001b[0m\u001b[0;34m\u001b[0m\u001b[0m\n",
      "\u001b[0;32m/Users/jeremynixon/anaconda/lib/python2.7/site-packages/sklearn/preprocessing/data.pyc\u001b[0m in \u001b[0;36m_fit_transform\u001b[0;34m(self, X)\u001b[0m\n\u001b[1;32m   1004\u001b[0m         \u001b[0;32mif\u001b[0m \u001b[0mnp\u001b[0m\u001b[0;34m.\u001b[0m\u001b[0many\u001b[0m\u001b[0;34m(\u001b[0m\u001b[0mX\u001b[0m \u001b[0;34m<\u001b[0m \u001b[0;36m0\u001b[0m\u001b[0;34m)\u001b[0m\u001b[0;34m:\u001b[0m\u001b[0;34m\u001b[0m\u001b[0m\n\u001b[1;32m   1005\u001b[0m             \u001b[0;32mraise\u001b[0m \u001b[0mValueError\u001b[0m\u001b[0;34m(\u001b[0m\u001b[0;34m\"X needs to contain only non-negative integers.\"\u001b[0m\u001b[0;34m)\u001b[0m\u001b[0;34m\u001b[0m\u001b[0m\n\u001b[0;32m-> 1006\u001b[0;31m         \u001b[0mn_samples\u001b[0m\u001b[0;34m,\u001b[0m \u001b[0mn_features\u001b[0m \u001b[0;34m=\u001b[0m \u001b[0mX\u001b[0m\u001b[0;34m.\u001b[0m\u001b[0mshape\u001b[0m\u001b[0;34m\u001b[0m\u001b[0m\n\u001b[0m\u001b[1;32m   1007\u001b[0m         \u001b[0;32mif\u001b[0m \u001b[0mself\u001b[0m\u001b[0;34m.\u001b[0m\u001b[0mn_values\u001b[0m \u001b[0;34m==\u001b[0m \u001b[0;34m'auto'\u001b[0m\u001b[0;34m:\u001b[0m\u001b[0;34m\u001b[0m\u001b[0m\n\u001b[1;32m   1008\u001b[0m             \u001b[0mn_values\u001b[0m \u001b[0;34m=\u001b[0m \u001b[0mnp\u001b[0m\u001b[0;34m.\u001b[0m\u001b[0mmax\u001b[0m\u001b[0;34m(\u001b[0m\u001b[0mX\u001b[0m\u001b[0;34m,\u001b[0m \u001b[0maxis\u001b[0m\u001b[0;34m=\u001b[0m\u001b[0;36m0\u001b[0m\u001b[0;34m)\u001b[0m \u001b[0;34m+\u001b[0m \u001b[0;36m1\u001b[0m\u001b[0;34m\u001b[0m\u001b[0m\n",
      "\u001b[0;31mValueError\u001b[0m: need more than 1 value to unpack"
     ]
    }
   ],
   "source": [
    "encoder = OneHotEncoder()\n",
    "encoder.fit(data['PoolFloat'])"
   ]
  },
  {
   "cell_type": "code",
   "execution_count": 13,
   "metadata": {
    "collapsed": false
   },
   "outputs": [
    {
     "name": "stdout",
     "output_type": "stream",
     "text": [
      "Pool\n",
      "ListDate\n",
      "PublicRemarks\n"
     ]
    }
   ],
   "source": [
    "filename = \"data_sci_snippet.csv.zip\"\n",
    "zf = zipfile.ZipFile(filename, 'r')\n",
    "\n",
    "data = pd.read_csv(zf.open('data_sci_snippet.csv'))\n",
    "\n",
    "data = one_hot_code_strings(data)\n",
    "# Convert categorical variables to floats for modeling\n",
    "# data['PoolFloat'] = pd.Series(data['Pool'], dtype ='category').cat.rename_categories(range(len(Counter(data['Pool']))))\n",
    "# data['ListingStatusFloat'] = pd.Series(data['ListingStatus'], dtype ='category').cat.rename_categories(range(len(Counter(data['ListingStatus']))))\n",
    "# data['DwellingTypeFloat'] = pd.Series(data['DwellingType'], dtype ='category').cat.rename_categories(range(len(Counter(data['DwellingType']))))\n",
    "\n",
    "# Remove Outliers\n",
    "data = data[(data['ClosePrice'] != 1)]\n",
    "data = data[(data['ListPrice'] <= 7000000)]\n",
    "\n",
    "without_na = data.dropna()\n",
    "\n",
    "x = without_na.drop(['ListPrice', 'ClosePrice', 'CloseDate'], axis=1)\n",
    "y = without_na['ClosePrice']\n",
    "\n",
    "\n",
    "x_train, x_test, y_train, y_test = sklearn.cross_validation.train_test_split(\n",
    "    x, y, test_size=0.20, random_state=42)\n"
   ]
  },
  {
   "cell_type": "code",
   "execution_count": 14,
   "metadata": {
    "collapsed": false
   },
   "outputs": [
    {
     "data": {
      "text/plain": [
       "array([[  5.12843800e+06,   1.34300000e+03,   2.00000000e+00, ...,\n",
       "          0.00000000e+00,   0.00000000e+00,   0.00000000e+00],\n",
       "       [  5.10296600e+06,   1.51200000e+03,   3.00000000e+00, ...,\n",
       "          0.00000000e+00,   0.00000000e+00,   0.00000000e+00],\n",
       "       [  5.07997300e+06,   3.43600000e+03,   3.00000000e+00, ...,\n",
       "          0.00000000e+00,   0.00000000e+00,   0.00000000e+00],\n",
       "       ..., \n",
       "       [  5.10240600e+06,   1.45900000e+03,   3.00000000e+00, ...,\n",
       "          0.00000000e+00,   0.00000000e+00,   0.00000000e+00],\n",
       "       [  5.07969700e+06,   1.32600000e+03,   3.00000000e+00, ...,\n",
       "          0.00000000e+00,   0.00000000e+00,   0.00000000e+00],\n",
       "       [  5.11267200e+06,   3.20500000e+03,   5.00000000e+00, ...,\n",
       "          0.00000000e+00,   0.00000000e+00,   0.00000000e+00]])"
      ]
     },
     "execution_count": 14,
     "metadata": {},
     "output_type": "execute_result"
    }
   ],
   "source": [
    "x_train"
   ]
  },
  {
   "cell_type": "code",
   "execution_count": 61,
   "metadata": {
    "collapsed": false
   },
   "outputs": [
    {
     "data": {
      "text/html": [
       "<div style=\"max-height:1000px;max-width:1500px;overflow:auto;\">\n",
       "<table border=\"1\" class=\"dataframe\">\n",
       "  <thead>\n",
       "    <tr style=\"text-align: right;\">\n",
       "      <th></th>\n",
       "      <th>ListingId</th>\n",
       "      <th>LivingArea</th>\n",
       "      <th>NumBedrooms</th>\n",
       "      <th>NumBaths</th>\n",
       "      <th>ExteriorStories</th>\n",
       "      <th>GeoLat</th>\n",
       "      <th>GeoLon</th>\n",
       "      <th>PoolFloat</th>\n",
       "      <th>ListingStatusFloat</th>\n",
       "      <th>DwellingTypeFloat</th>\n",
       "    </tr>\n",
       "  </thead>\n",
       "  <tbody>\n",
       "    <tr>\n",
       "      <th>1 </th>\n",
       "      <td> 5077408</td>\n",
       "      <td> 2230</td>\n",
       "      <td> 4</td>\n",
       "      <td> 2.0</td>\n",
       "      <td> 1</td>\n",
       "      <td> 33.650984</td>\n",
       "      <td>-111.963151</td>\n",
       "      <td> 3</td>\n",
       "      <td> 2</td>\n",
       "      <td> 6</td>\n",
       "    </tr>\n",
       "    <tr>\n",
       "      <th>2 </th>\n",
       "      <td> 5077486</td>\n",
       "      <td> 1601</td>\n",
       "      <td> 3</td>\n",
       "      <td> 2.0</td>\n",
       "      <td> 1</td>\n",
       "      <td> 33.692122</td>\n",
       "      <td>-112.038019</td>\n",
       "      <td> 3</td>\n",
       "      <td> 2</td>\n",
       "      <td> 6</td>\n",
       "    </tr>\n",
       "    <tr>\n",
       "      <th>3 </th>\n",
       "      <td> 5077487</td>\n",
       "      <td> 2440</td>\n",
       "      <td> 4</td>\n",
       "      <td> 2.5</td>\n",
       "      <td> 2</td>\n",
       "      <td> 33.647270</td>\n",
       "      <td>-112.251490</td>\n",
       "      <td> 2</td>\n",
       "      <td> 2</td>\n",
       "      <td> 6</td>\n",
       "    </tr>\n",
       "    <tr>\n",
       "      <th>4 </th>\n",
       "      <td> 5077489</td>\n",
       "      <td> 3980</td>\n",
       "      <td> 5</td>\n",
       "      <td> 3.0</td>\n",
       "      <td> 1</td>\n",
       "      <td> 33.389139</td>\n",
       "      <td>-111.712757</td>\n",
       "      <td> 2</td>\n",
       "      <td> 2</td>\n",
       "      <td> 6</td>\n",
       "    </tr>\n",
       "    <tr>\n",
       "      <th>5 </th>\n",
       "      <td> 5077490</td>\n",
       "      <td> 1243</td>\n",
       "      <td> 3</td>\n",
       "      <td> 2.0</td>\n",
       "      <td> 1</td>\n",
       "      <td> 33.403250</td>\n",
       "      <td>-111.771918</td>\n",
       "      <td> 2</td>\n",
       "      <td> 2</td>\n",
       "      <td> 6</td>\n",
       "    </tr>\n",
       "    <tr>\n",
       "      <th>6 </th>\n",
       "      <td> 5077492</td>\n",
       "      <td> 1618</td>\n",
       "      <td> 2</td>\n",
       "      <td> 2.5</td>\n",
       "      <td> 2</td>\n",
       "      <td> 33.332033</td>\n",
       "      <td>-111.909718</td>\n",
       "      <td> 1</td>\n",
       "      <td> 2</td>\n",
       "      <td> 5</td>\n",
       "    </tr>\n",
       "    <tr>\n",
       "      <th>9 </th>\n",
       "      <td> 5077496</td>\n",
       "      <td> 2243</td>\n",
       "      <td> 3</td>\n",
       "      <td> 2.0</td>\n",
       "      <td> 1</td>\n",
       "      <td> 33.334591</td>\n",
       "      <td>-111.795238</td>\n",
       "      <td> 3</td>\n",
       "      <td> 2</td>\n",
       "      <td> 6</td>\n",
       "    </tr>\n",
       "    <tr>\n",
       "      <th>10</th>\n",
       "      <td> 5077497</td>\n",
       "      <td>  760</td>\n",
       "      <td> 2</td>\n",
       "      <td> 2.0</td>\n",
       "      <td> 1</td>\n",
       "      <td> 33.627024</td>\n",
       "      <td>-112.200800</td>\n",
       "      <td> 2</td>\n",
       "      <td> 2</td>\n",
       "      <td> 3</td>\n",
       "    </tr>\n",
       "    <tr>\n",
       "      <th>11</th>\n",
       "      <td> 5077499</td>\n",
       "      <td> 2258</td>\n",
       "      <td> 4</td>\n",
       "      <td> 2.0</td>\n",
       "      <td> 1</td>\n",
       "      <td> 33.621637</td>\n",
       "      <td>-112.024739</td>\n",
       "      <td> 2</td>\n",
       "      <td> 2</td>\n",
       "      <td> 6</td>\n",
       "    </tr>\n",
       "    <tr>\n",
       "      <th>12</th>\n",
       "      <td> 5077501</td>\n",
       "      <td> 1421</td>\n",
       "      <td> 3</td>\n",
       "      <td> 2.0</td>\n",
       "      <td> 2</td>\n",
       "      <td> 33.666474</td>\n",
       "      <td>-112.166827</td>\n",
       "      <td> 1</td>\n",
       "      <td> 2</td>\n",
       "      <td> 6</td>\n",
       "    </tr>\n",
       "  </tbody>\n",
       "</table>\n",
       "</div>"
      ],
      "text/plain": [
       "    ListingId  LivingArea  NumBedrooms  NumBaths  ExteriorStories     GeoLat  \\\n",
       "1     5077408        2230            4       2.0                1  33.650984   \n",
       "2     5077486        1601            3       2.0                1  33.692122   \n",
       "3     5077487        2440            4       2.5                2  33.647270   \n",
       "4     5077489        3980            5       3.0                1  33.389139   \n",
       "5     5077490        1243            3       2.0                1  33.403250   \n",
       "6     5077492        1618            2       2.5                2  33.332033   \n",
       "9     5077496        2243            3       2.0                1  33.334591   \n",
       "10    5077497         760            2       2.0                1  33.627024   \n",
       "11    5077499        2258            4       2.0                1  33.621637   \n",
       "12    5077501        1421            3       2.0                2  33.666474   \n",
       "\n",
       "        GeoLon PoolFloat ListingStatusFloat DwellingTypeFloat  \n",
       "1  -111.963151         3                  2                 6  \n",
       "2  -112.038019         3                  2                 6  \n",
       "3  -112.251490         2                  2                 6  \n",
       "4  -111.712757         2                  2                 6  \n",
       "5  -111.771918         2                  2                 6  \n",
       "6  -111.909718         1                  2                 5  \n",
       "9  -111.795238         3                  2                 6  \n",
       "10 -112.200800         2                  2                 3  \n",
       "11 -112.024739         2                  2                 6  \n",
       "12 -112.166827         1                  2                 6  "
      ]
     },
     "execution_count": 61,
     "metadata": {},
     "output_type": "execute_result"
    }
   ],
   "source": [
    "x[:10]"
   ]
  },
  {
   "cell_type": "code",
   "execution_count": 76,
   "metadata": {
    "collapsed": false
   },
   "outputs": [],
   "source": [
    "import random\n",
    "def test_train_split(x, y, test_size=.20):\n",
    "    training_sample = random.sample(range(len(x)),int(len(x)*(1-test_size))) # Takes the floor\n",
    "    \n",
    "    training_sample.sort()\n",
    "    testing_sample = []\n",
    "    index = 0\n",
    "    \n",
    "    for i in range(len(x)):\n",
    "        while training_sample[index] < i and index < len(training_sample):\n",
    "            index += 1\n",
    "            if index >= len(training_sample):\n",
    "                break\n",
    "        else:\n",
    "            continue\n",
    "        break\n",
    "        if training_sample[index] != i:\n",
    "            testing_sample.append(i)\n",
    "    \n",
    "    x_train = x.loc[training_sample]\n",
    "    y_train = y.loc[training_sample]\n",
    "    x_test = x.loc[testing_sample]\n",
    "    y_test = y.loc[testing_sample]\n",
    "    \n",
    "    return x_train, y_train, x_test, y_test"
   ]
  },
  {
   "cell_type": "code",
   "execution_count": 81,
   "metadata": {
    "collapsed": false
   },
   "outputs": [
    {
     "name": "stdout",
     "output_type": "stream",
     "text": [
      "i = 0\n",
      "index = 0\n",
      "i = 1\n",
      "index = 0\n",
      "i = 2\n",
      "index = 0\n",
      "i = 3\n",
      "index = 0\n",
      "index updated to 1\n",
      "i = 4\n",
      "index = 1\n",
      "i = 5\n",
      "index = 1\n",
      "index updated to 2\n",
      "i = 6\n",
      "index = 2\n",
      "index updated to 3\n",
      "i = 7\n",
      "index = 3\n",
      "i = 8\n",
      "index = 3\n",
      "i = 9\n",
      "index = 3\n",
      "index updated to 4\n"
     ]
    },
    {
     "data": {
      "text/html": [
       "<div style=\"max-height:1000px;max-width:1500px;overflow:auto;\">\n",
       "<table border=\"1\" class=\"dataframe\">\n",
       "  <thead>\n",
       "    <tr style=\"text-align: right;\">\n",
       "      <th></th>\n",
       "      <th>ListingId</th>\n",
       "      <th>LivingArea</th>\n",
       "      <th>NumBedrooms</th>\n",
       "      <th>NumBaths</th>\n",
       "      <th>ExteriorStories</th>\n",
       "      <th>GeoLat</th>\n",
       "      <th>GeoLon</th>\n",
       "      <th>PoolFloat</th>\n",
       "      <th>ListingStatusFloat</th>\n",
       "      <th>DwellingTypeFloat</th>\n",
       "    </tr>\n",
       "  </thead>\n",
       "  <tbody>\n",
       "  </tbody>\n",
       "</table>\n",
       "</div>"
      ],
      "text/plain": [
       "Empty DataFrame\n",
       "Columns: [ListingId, LivingArea, NumBedrooms, NumBaths, ExteriorStories, GeoLat, GeoLon, PoolFloat, ListingStatusFloat, DwellingTypeFloat]\n",
       "Index: []"
      ]
     },
     "execution_count": 81,
     "metadata": {},
     "output_type": "execute_result"
    }
   ],
   "source": [
    "n = cross_validation(x[:10], y[:10], test_size=.5)\n",
    "n[:5]"
   ]
  },
  {
   "cell_type": "code",
   "execution_count": 110,
   "metadata": {
    "collapsed": false
   },
   "outputs": [],
   "source": [
    "import random\n",
    "def cv(x, y, k=10):\n",
    "    randomize = random.sample(range(len(x)),int(len(x)))\n",
    "    x = x.loc[randomize]\n",
    "    y = y.loc[randomize]\n",
    "    fold_size = len(x)/k\n",
    "    storage = []\n",
    "    for i in range(k):\n",
    "        a = i*fold_size\n",
    "        b = (i+1)*fold_size\n",
    "        training_sample = list(x[a:b].index)\n",
    "        testing_sample = []\n",
    "        index = 0\n",
    "        \n",
    "        x_train = x.loc[training_sample]\n",
    "        y_train = y.loc[training_sample]\n",
    "        \n",
    "        training_sample.sort()\n",
    "        for i in range(len(x)):\n",
    "            while training_sample[index] < i and index < len(training_sample):\n",
    "                index += 1\n",
    "                if index >= len(training_sample):\n",
    "                    break\n",
    "            else:\n",
    "                continue\n",
    "            break\n",
    "            if training_sample[index] != i:\n",
    "                testing_sample.append(i)\n",
    "\n",
    "        \n",
    "        x_test = x.loc[testing_sample]\n",
    "        y_test = y.loc[testing_sample]\n",
    "        \n",
    "        \n",
    "        storage.append([training_sample, testing_sample])\n",
    "    return storage"
   ]
  },
  {
   "cell_type": "code",
   "execution_count": 118,
   "metadata": {
    "collapsed": false
   },
   "outputs": [
    {
     "data": {
      "text/plain": [
       "3750"
      ]
     },
     "execution_count": 118,
     "metadata": {},
     "output_type": "execute_result"
    }
   ],
   "source": [
    "validated = cv(x,y)\n",
    "len(validated[1][0])"
   ]
  },
  {
   "cell_type": "code",
   "execution_count": 99,
   "metadata": {
    "collapsed": false
   },
   "outputs": [
    {
     "data": {
      "text/plain": [
       "[[0, 1], [1, 2], [2, 3], [3, 4], [4, 5]]"
      ]
     },
     "execution_count": 99,
     "metadata": {},
     "output_type": "execute_result"
    }
   ],
   "source": [
    "test = []\n",
    "for i in range(5):\n",
    "    test.append([i, i+1])\n",
    "test"
   ]
  },
  {
   "cell_type": "code",
   "execution_count": 109,
   "metadata": {
    "collapsed": false
   },
   "outputs": [
    {
     "data": {
      "text/plain": [
       "[3, 4]"
      ]
     },
     "execution_count": 109,
     "metadata": {},
     "output_type": "execute_result"
    }
   ],
   "source": [
    "test[3]"
   ]
  },
  {
   "cell_type": "code",
   "execution_count": 42,
   "metadata": {
    "collapsed": false
   },
   "outputs": [
    {
     "ename": "NameError",
     "evalue": "name 'indeces' is not defined",
     "output_type": "error",
     "traceback": [
      "\u001b[0;31m---------------------------------------------------------------------------\u001b[0m",
      "\u001b[0;31mNameError\u001b[0m                                 Traceback (most recent call last)",
      "\u001b[0;32m<ipython-input-42-f7517cdcaf62>\u001b[0m in \u001b[0;36m<module>\u001b[0;34m()\u001b[0m\n\u001b[1;32m      1\u001b[0m \u001b[0manti_indices\u001b[0m \u001b[0;34m=\u001b[0m \u001b[0;34m[\u001b[0m\u001b[0;34m]\u001b[0m\u001b[0;34m\u001b[0m\u001b[0m\n\u001b[1;32m      2\u001b[0m \u001b[0;32mfor\u001b[0m \u001b[0mi\u001b[0m \u001b[0;32min\u001b[0m \u001b[0mrange\u001b[0m\u001b[0;34m(\u001b[0m\u001b[0mlen\u001b[0m\u001b[0;34m(\u001b[0m\u001b[0mdata\u001b[0m\u001b[0;34m)\u001b[0m\u001b[0;34m)\u001b[0m\u001b[0;34m:\u001b[0m\u001b[0;34m\u001b[0m\u001b[0m\n\u001b[0;32m----> 3\u001b[0;31m     \u001b[0;32mif\u001b[0m \u001b[0mi\u001b[0m \u001b[0;32mnot\u001b[0m \u001b[0;32min\u001b[0m \u001b[0mindeces\u001b[0m\u001b[0;34m:\u001b[0m\u001b[0;34m\u001b[0m\u001b[0m\n\u001b[0m\u001b[1;32m      4\u001b[0m         \u001b[0manti_indices\u001b[0m\u001b[0;34m.\u001b[0m\u001b[0mappend\u001b[0m\u001b[0;34m(\u001b[0m\u001b[0mi\u001b[0m\u001b[0;34m)\u001b[0m\u001b[0;34m\u001b[0m\u001b[0m\n\u001b[1;32m      5\u001b[0m \u001b[0;32mprint\u001b[0m \u001b[0mlen\u001b[0m\u001b[0;34m(\u001b[0m\u001b[0manti_indices\u001b[0m\u001b[0;34m)\u001b[0m\u001b[0;34m\u001b[0m\u001b[0m\n",
      "\u001b[0;31mNameError\u001b[0m: name 'indeces' is not defined"
     ]
    }
   ],
   "source": [
    "anti_indices = []\n",
    "for i in range(len(data)):\n",
    "    if i not in indeces:\n",
    "        anti_indices.append(i)\n",
    "print len(anti_indices)"
   ]
  },
  {
   "cell_type": "code",
   "execution_count": 36,
   "metadata": {
    "collapsed": false
   },
   "outputs": [
    {
     "name": "stdout",
     "output_type": "stream",
     "text": [
      "(19744, 18)\n"
     ]
    },
    {
     "data": {
      "text/html": [
       "<div style=\"max-height:1000px;max-width:1500px;overflow:auto;\">\n",
       "<table border=\"1\" class=\"dataframe\">\n",
       "  <thead>\n",
       "    <tr style=\"text-align: right;\">\n",
       "      <th></th>\n",
       "      <th>ListingId</th>\n",
       "      <th>LivingArea</th>\n",
       "      <th>NumBedrooms</th>\n",
       "      <th>NumBaths</th>\n",
       "      <th>Pool</th>\n",
       "      <th>ExteriorStories</th>\n",
       "      <th>ListDate</th>\n",
       "      <th>ListPrice</th>\n",
       "      <th>GeoLat</th>\n",
       "      <th>GeoLon</th>\n",
       "      <th>PublicRemarks</th>\n",
       "      <th>CloseDate</th>\n",
       "      <th>ClosePrice</th>\n",
       "      <th>ListingStatus</th>\n",
       "      <th>DwellingType</th>\n",
       "      <th>PoolFloat</th>\n",
       "      <th>ListingStatusFloat</th>\n",
       "      <th>DwellingTypeFloat</th>\n",
       "    </tr>\n",
       "  </thead>\n",
       "  <tbody>\n",
       "    <tr>\n",
       "      <th>57236</th>\n",
       "      <td> 5173415</td>\n",
       "      <td> 1504</td>\n",
       "      <td> 3</td>\n",
       "      <td> 1.75</td>\n",
       "      <td> None</td>\n",
       "      <td> 1</td>\n",
       "      <td> 2014-08-19</td>\n",
       "      <td> 68000</td>\n",
       "      <td> 33.509141</td>\n",
       "      <td>-112.173433</td>\n",
       "      <td> Great short sale property, perfect for the inv...</td>\n",
       "      <td> NaN</td>\n",
       "      <td>NaN</td>\n",
       "      <td> Pending</td>\n",
       "      <td> Single Family - Detached</td>\n",
       "      <td> 2</td>\n",
       "      <td> 4</td>\n",
       "      <td> 6</td>\n",
       "    </tr>\n",
       "  </tbody>\n",
       "</table>\n",
       "</div>"
      ],
      "text/plain": [
       "       ListingId  LivingArea  NumBedrooms  NumBaths  Pool  ExteriorStories  \\\n",
       "57236    5173415        1504            3      1.75  None                1   \n",
       "\n",
       "         ListDate  ListPrice     GeoLat      GeoLon  \\\n",
       "57236  2014-08-19      68000  33.509141 -112.173433   \n",
       "\n",
       "                                           PublicRemarks CloseDate  \\\n",
       "57236  Great short sale property, perfect for the inv...       NaN   \n",
       "\n",
       "       ClosePrice ListingStatus              DwellingType PoolFloat  \\\n",
       "57236         NaN       Pending  Single Family - Detached         2   \n",
       "\n",
       "      ListingStatusFloat DwellingTypeFloat  \n",
       "57236                  4                 6  "
      ]
     },
     "execution_count": 36,
     "metadata": {},
     "output_type": "execute_result"
    }
   ],
   "source": [
    "with_na = pd.DataFrame(data, index = anti_indices)\n",
    "print with_na.shape\n",
    "with_na[-1:]"
   ]
  },
  {
   "cell_type": "code",
   "execution_count": 53,
   "metadata": {
    "collapsed": false
   },
   "outputs": [
    {
     "name": "stdout",
     "output_type": "stream",
     "text": [
      "nan\n",
      "Number without Close Price is 0 / 19744\n"
     ]
    }
   ],
   "source": [
    "closeprice = []\n",
    "count = 0\n",
    "nan = with_na.loc[0]['ClosePrice']\n",
    "print nan\n",
    "for i in anti_indices:\n",
    "    closeprice.append(with_na.loc[i]['ClosePrice'])\n",
    "    if with_na.loc[i]['ClosePrice'] == nan:\n",
    "        count += 1\n",
    "print \"Number without Close Price is %r / %r\" % (count, len(anti_indices))"
   ]
  },
  {
   "cell_type": "code",
   "execution_count": 59,
   "metadata": {
    "collapsed": false
   },
   "outputs": [
    {
     "name": "stdout",
     "output_type": "stream",
     "text": [
      "19320\n",
      "Number without Close Price is 19320 / 19744\n"
     ]
    }
   ],
   "source": [
    "count = 0\n",
    "for i in closeprice:\n",
    "    i = str(i)\n",
    "    if i == 'nan':\n",
    "        count += 1\n",
    "print \"Number without Close Price is %r / %r\" % (count, len(closeprice))"
   ]
  },
  {
   "cell_type": "code",
   "execution_count": 37,
   "metadata": {
    "collapsed": false
   },
   "outputs": [
    {
     "ename": "ValueError",
     "evalue": "No axis named ClosePrice for object type <class 'pandas.core.frame.DataFrame'>",
     "output_type": "error",
     "traceback": [
      "\u001b[0;31m---------------------------------------------------------------------------\u001b[0m",
      "\u001b[0;31mValueError\u001b[0m                                Traceback (most recent call last)",
      "\u001b[0;32m<ipython-input-37-d41ef404f3dc>\u001b[0m in \u001b[0;36m<module>\u001b[0;34m()\u001b[0m\n\u001b[0;32m----> 1\u001b[0;31m \u001b[0mno_close_price\u001b[0m \u001b[0;34m=\u001b[0m \u001b[0mwith_na\u001b[0m\u001b[0;34m.\u001b[0m\u001b[0mdropna\u001b[0m\u001b[0;34m(\u001b[0m\u001b[0;34m'ClosePrice'\u001b[0m\u001b[0;34m)\u001b[0m\u001b[0;34m\u001b[0m\u001b[0m\n\u001b[0m\u001b[1;32m      2\u001b[0m \u001b[0;32mprint\u001b[0m \u001b[0mno_close_price\u001b[0m\u001b[0;34m.\u001b[0m\u001b[0mshape\u001b[0m\u001b[0;34m\u001b[0m\u001b[0m\n",
      "\u001b[0;32m/Users/jeremynixon/anaconda/lib/python2.7/site-packages/pandas/core/frame.pyc\u001b[0m in \u001b[0;36mdropna\u001b[0;34m(self, axis, how, thresh, subset, inplace)\u001b[0m\n\u001b[1;32m   2652\u001b[0m                                        subset=subset, axis=ax)\n\u001b[1;32m   2653\u001b[0m         \u001b[0;32melse\u001b[0m\u001b[0;34m:\u001b[0m\u001b[0;34m\u001b[0m\u001b[0m\n\u001b[0;32m-> 2654\u001b[0;31m             \u001b[0maxis\u001b[0m \u001b[0;34m=\u001b[0m \u001b[0mself\u001b[0m\u001b[0;34m.\u001b[0m\u001b[0m_get_axis_number\u001b[0m\u001b[0;34m(\u001b[0m\u001b[0maxis\u001b[0m\u001b[0;34m)\u001b[0m\u001b[0;34m\u001b[0m\u001b[0m\n\u001b[0m\u001b[1;32m   2655\u001b[0m             \u001b[0magg_axis\u001b[0m \u001b[0;34m=\u001b[0m \u001b[0;36m1\u001b[0m \u001b[0;34m-\u001b[0m \u001b[0maxis\u001b[0m\u001b[0;34m\u001b[0m\u001b[0m\n\u001b[1;32m   2656\u001b[0m \u001b[0;34m\u001b[0m\u001b[0m\n",
      "\u001b[0;32m/Users/jeremynixon/anaconda/lib/python2.7/site-packages/pandas/core/generic.pyc\u001b[0m in \u001b[0;36m_get_axis_number\u001b[0;34m(self, axis)\u001b[0m\n\u001b[1;32m    294\u001b[0m                 \u001b[0;32mpass\u001b[0m\u001b[0;34m\u001b[0m\u001b[0m\n\u001b[1;32m    295\u001b[0m         raise ValueError('No axis named {0} for object type {1}'\n\u001b[0;32m--> 296\u001b[0;31m                          .format(axis, type(self)))\n\u001b[0m\u001b[1;32m    297\u001b[0m \u001b[0;34m\u001b[0m\u001b[0m\n\u001b[1;32m    298\u001b[0m     \u001b[0;32mdef\u001b[0m \u001b[0m_get_axis_name\u001b[0m\u001b[0;34m(\u001b[0m\u001b[0mself\u001b[0m\u001b[0;34m,\u001b[0m \u001b[0maxis\u001b[0m\u001b[0;34m)\u001b[0m\u001b[0;34m:\u001b[0m\u001b[0;34m\u001b[0m\u001b[0m\n",
      "\u001b[0;31mValueError\u001b[0m: No axis named ClosePrice for object type <class 'pandas.core.frame.DataFrame'>"
     ]
    }
   ],
   "source": [
    "no_close_price = with_na.dropna('ClosePrice')\n",
    "print no_close_price.shape"
   ]
  },
  {
   "cell_type": "code",
   "execution_count": 23,
   "metadata": {
    "collapsed": false
   },
   "outputs": [
    {
     "name": "stdout",
     "output_type": "stream",
     "text": [
      "(57237, 18)\n",
      "(37506, 18)\n"
     ]
    }
   ],
   "source": [
    "indeces = without_na.index\n",
    "print data.shape\n",
    "print without_na.shape"
   ]
  },
  {
   "cell_type": "markdown",
   "metadata": {},
   "source": [
    "$$\\textbf{Random Forest}$$"
   ]
  },
  {
   "cell_type": "code",
   "execution_count": 18,
   "metadata": {
    "collapsed": false
   },
   "outputs": [
    {
     "name": "stdout",
     "output_type": "stream",
     "text": [
      "RMSE = 83728.73636197302\n",
      "MAE = 34721.736507206137\n",
      "Percentage accuracy = 0.85802816261503079\n"
     ]
    }
   ],
   "source": [
    "clf = ensemble.RandomForestRegressor(n_estimators = 1000)\n",
    "clf.fit(x_train, y_train)\n",
    "forest_predictions = clf.predict(x_test)\n",
    "print \"RMSE = %r\" % RMSE(y_test, forest_predictions)\n",
    "print \"MAE = %r\" % MAE(forest_predictions, y_test)\n",
    "print \"Percentage accuracy = %r\" % (1-((abs(forest_predictions-y_test).mean())/y_test.mean()))"
   ]
  },
  {
   "cell_type": "code",
   "execution_count": 73,
   "metadata": {
    "collapsed": false
   },
   "outputs": [
    {
     "name": "stdout",
     "output_type": "stream",
     "text": [
      "With Train/Test split 80/20: 0.863\n",
      "With Train/Test split 95/05: 0.871\n"
     ]
    }
   ],
   "source": [
    "print \"With Train/Test split 80/20: 0.863\"\n",
    "print \"With Train/Test split 95/05: 0.871\""
   ]
  },
  {
   "cell_type": "markdown",
   "metadata": {},
   "source": [
    "$$\\textbf{Gradient Boosted Trees}$$"
   ]
  },
  {
   "cell_type": "code",
   "execution_count": 16,
   "metadata": {
    "collapsed": false
   },
   "outputs": [
    {
     "name": "stdout",
     "output_type": "stream",
     "text": [
      "RMSE = 82965.70615339809\n",
      "MAE = 38615.845959219951\n",
      "Percentage accuracy = 0.84210574831510554\n"
     ]
    }
   ],
   "source": [
    "clf = ensemble.GradientBoostingRegressor(n_estimators=1000)\n",
    "clf.fit(x_train, y_train)\n",
    "gradient_predictions = clf.predict(x_test)\n",
    "print \"RMSE = %r\" % RMSE(y_test, gradient_predictions)\n",
    "print \"MAE = %r\" % MAE(gradient_predictions, y_test)\n",
    "print \"Percentage accuracy = %r\" % (1-((abs(gradient_predictions-y_test).mean())/y_test.mean()))"
   ]
  },
  {
   "cell_type": "markdown",
   "metadata": {},
   "source": [
    "$$ \\textbf{Mean of Random Forest and Gradient Boosted Trees} $$"
   ]
  },
  {
   "cell_type": "code",
   "execution_count": 17,
   "metadata": {
    "collapsed": false
   },
   "outputs": [
    {
     "name": "stdout",
     "output_type": "stream",
     "text": [
      "RMSE = 80677.70227862737\n",
      "MAE = 35139.96126445046\n",
      "Percentage accuracy = 0.85631810594164015\n"
     ]
    }
   ],
   "source": [
    "ensemble_predictions = (forest_predictions + gradient_predictions)/2\n",
    "\n",
    "print \"RMSE = %r\" % RMSE(y_test, ensemble_predictions)\n",
    "print \"MAE = %r\" % MAE(ensemble_predictions, y_test)\n",
    "print \"Percentage accuracy = %r\" % (1-((abs(ensemble_predictions-y_test).mean())/y_test.mean()))"
   ]
  },
  {
   "cell_type": "markdown",
   "metadata": {},
   "source": [
    "$$ \\textbf{Support Vector Machine} $$"
   ]
  },
  {
   "cell_type": "code",
   "execution_count": 21,
   "metadata": {
    "collapsed": false
   },
   "outputs": [
    {
     "name": "stdout",
     "output_type": "stream",
     "text": [
      "RBF\n",
      "RMSE = 206645.65219648022\n",
      "MAE = 106730.16530934902\n",
      "Percentage accuracy = 0.55895911560887246\n"
     ]
    }
   ],
   "source": [
    "clf = svm.SVR(kernel='rbf', C=1e3, gamma=0.1)\n",
    "clf.fit(x_train, y_train)\n",
    "predictions = clf.predict(x_test)\n",
    "print \"RBF\"\n",
    "print \"RMSE = %r\" % RMSE(y_test, predictions)\n",
    "print \"MAE = %r\" % MAE(predictions, y_test)\n",
    "print \"Percentage accuracy = %r\" % (1-((abs(predictions-y_test).mean())/y_test.mean()))"
   ]
  },
  {
   "cell_type": "code",
   "execution_count": null,
   "metadata": {
    "collapsed": true
   },
   "outputs": [],
   "source": [
    "# clf = svm.SVR(kernel='linear', C=1e3)\n",
    "# clf.fit(x_train, y_train)\n",
    "# predictions = clf.predict(x_test)\n",
    "# print \"Linear\"\n",
    "# print \"RMSE = %r\" % RMSE(y_test, predictions)\n",
    "# print \"MAE = %r\" % MAE(predictions, y_test)\n",
    "# print \"Percentage accuracy = %r\" % (1-((abs(predictions-y_test).mean())/y_test.mean()))"
   ]
  },
  {
   "cell_type": "code",
   "execution_count": null,
   "metadata": {
    "collapsed": true
   },
   "outputs": [],
   "source": [
    "clf = svm.SVR(kernel='poly', C=1e3, degree=2)\n",
    "clf.fit(x_train, y_train)\n",
    "predictions = clf.predict(x_test)\n",
    "print \"Polynomial\"\n",
    "print \"RMSE = %r\" % RMSE(y_test, predictions)\n",
    "print \"MAE = %r\" % MAE(predictions, y_test)\n",
    "print \"Percentage accuracy = %r\" % (1-((abs(predictions-y_test).mean())/y_test.mean()))"
   ]
  },
  {
   "cell_type": "code",
   "execution_count": null,
   "metadata": {
    "collapsed": true
   },
   "outputs": [],
   "source": [
    "print x_train"
   ]
  },
  {
   "cell_type": "code",
   "execution_count": null,
   "metadata": {
    "collapsed": true
   },
   "outputs": [],
   "source": []
  }
 ],
 "metadata": {
  "kernelspec": {
   "display_name": "Python 2",
   "language": "python",
   "name": "python2"
  },
  "language_info": {
   "codemirror_mode": {
    "name": "ipython",
    "version": 2
   },
   "file_extension": ".py",
   "mimetype": "text/x-python",
   "name": "python",
   "nbconvert_exporter": "python",
   "pygments_lexer": "ipython2",
   "version": "2.7.9"
  }
 },
 "nbformat": 4,
 "nbformat_minor": 0
}
