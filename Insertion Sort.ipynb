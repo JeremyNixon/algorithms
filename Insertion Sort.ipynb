{
 "metadata": {
  "name": "",
  "signature": "sha256:e69883831f49f61abe830532cf7af40c9e9833af5905ee7213ebd7dd63b493a0"
 },
 "nbformat": 3,
 "nbformat_minor": 0,
 "worksheets": [
  {
   "cells": [
    {
     "cell_type": "code",
     "collapsed": false,
     "input": [
      "import numpy as np"
     ],
     "language": "python",
     "metadata": {},
     "outputs": [],
     "prompt_number": 2
    },
    {
     "cell_type": "code",
     "collapsed": false,
     "input": [
      "list = np.random.randint(0,100,50)"
     ],
     "language": "python",
     "metadata": {},
     "outputs": [],
     "prompt_number": 3
    },
    {
     "cell_type": "code",
     "collapsed": false,
     "input": [
      "list"
     ],
     "language": "python",
     "metadata": {},
     "outputs": [
      {
       "metadata": {},
       "output_type": "pyout",
       "prompt_number": 4,
       "text": [
        "array([13, 15, 50, 67, 23, 18,  3, 10, 86,  5, 67, 55, 45, 48, 96, 53, 42,\n",
        "       58, 21, 17, 19, 44, 83, 96, 80, 83, 66, 87, 49, 48, 85, 35, 88, 98,\n",
        "       68,  2, 65, 55, 57, 96, 63,  6, 77, 42, 99, 56, 17, 93, 84, 73])"
       ]
      }
     ],
     "prompt_number": 4
    },
    {
     "cell_type": "code",
     "collapsed": false,
     "input": [
      "def insertion_sort(list):\n",
      "    length = len(list)\n",
      "    for element in range(0,length):\n",
      "        i = element-1\n",
      "        while list[element] < list[i]:\n",
      "            swap = list[element]\n",
      "            list[element] = list[element-1]\n",
      "            list[element-1] = swap\n",
      "    return(list)\n",
      "insertion_sort(list)"
     ],
     "language": "python",
     "metadata": {},
     "outputs": [
      {
       "metadata": {},
       "output_type": "pyout",
       "prompt_number": 13,
       "text": [
        "array([15, 50, 23, 18,  3, 10, 67,  5, 67, 55, 45, 48, 86, 53, 42, 58, 21,\n",
        "       17, 19, 44, 83, 96, 80, 83, 66, 87, 49, 48, 85, 35, 88, 96, 68,  2,\n",
        "       65, 55, 57, 96, 63,  6, 77, 42, 98, 56, 17, 93, 84, 73, 13, 99])"
       ]
      }
     ],
     "prompt_number": 13
    },
    {
     "cell_type": "code",
     "collapsed": false,
     "input": [
      "length = len(list)\n",
      "for element in range(0,length):\n",
      "    print list[element]\n",
      "type(list)"
     ],
     "language": "python",
     "metadata": {},
     "outputs": [
      {
       "output_type": "stream",
       "stream": "stdout",
       "text": [
        "13\n",
        "15\n",
        "50\n",
        "67\n",
        "23\n",
        "18\n",
        "3\n",
        "10\n",
        "86\n",
        "5\n",
        "67\n",
        "55\n",
        "45\n",
        "48\n",
        "96\n",
        "53\n",
        "42\n",
        "58\n",
        "21\n",
        "17\n",
        "19\n",
        "44\n",
        "83\n",
        "96\n",
        "80\n",
        "83\n",
        "66\n",
        "87\n",
        "49\n",
        "48\n",
        "85\n",
        "35\n",
        "88\n",
        "98\n",
        "68\n",
        "2\n",
        "65\n",
        "55\n",
        "57\n",
        "96\n",
        "63\n",
        "6\n",
        "77\n",
        "42\n",
        "99\n",
        "56\n",
        "17\n",
        "93\n",
        "84\n",
        "73\n"
       ]
      },
      {
       "metadata": {},
       "output_type": "pyout",
       "prompt_number": 9,
       "text": [
        "numpy.ndarray"
       ]
      }
     ],
     "prompt_number": 9
    },
    {
     "cell_type": "code",
     "collapsed": false,
     "input": [],
     "language": "python",
     "metadata": {},
     "outputs": [],
     "prompt_number": 1
    },
    {
     "cell_type": "code",
     "collapsed": false,
     "input": [],
     "language": "python",
     "metadata": {},
     "outputs": []
    },
    {
     "cell_type": "code",
     "collapsed": false,
     "input": [],
     "language": "python",
     "metadata": {},
     "outputs": []
    }
   ],
   "metadata": {}
  }
 ]
}