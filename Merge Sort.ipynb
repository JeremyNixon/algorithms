{
 "cells": [
  {
   "cell_type": "code",
   "execution_count": 1,
   "metadata": {
    "collapsed": true
   },
   "outputs": [],
   "source": [
    "import numpy as np"
   ]
  },
  {
   "cell_type": "code",
   "execution_count": 29,
   "metadata": {
    "collapsed": false
   },
   "outputs": [
    {
     "data": {
      "text/plain": [
       "array([70, 32, 65, 24, 35, 74])"
      ]
     },
     "execution_count": 29,
     "metadata": {},
     "output_type": "execute_result"
    }
   ],
   "source": [
    "array = np.random.random_integers(0,99,6)\n",
    "array"
   ]
  },
  {
   "cell_type": "code",
   "execution_count": 32,
   "metadata": {
    "collapsed": false
   },
   "outputs": [],
   "source": [
    "def merge_sort(array):\n",
    "    array = list(array)\n",
    "    if len(array) <= 1:\n",
    "        return array\n",
    "    \n",
    "    final = []\n",
    "    \n",
    "    # Split Array\n",
    "    mid = (len(array))/2\n",
    "    \n",
    "    left = array[:mid]\n",
    "    print \"left array: \"\n",
    "    print left\n",
    "    right = array[mid:]\n",
    "    \n",
    "    # Call Split Recursively\n",
    "    left = merge_sort(left)\n",
    "    right = merge_sort(right)\n",
    "    \n",
    "    while(len(left) > 0 and len(right) > 0):\n",
    "        print \"left array: \"\n",
    "        print left\n",
    "        print \"right array: \"\n",
    "        print right\n",
    "        if left[0] < right[0]:\n",
    "            final.append(left[0])\n",
    "            left.pop(0)\n",
    "        else:\n",
    "            final.append(right[0])\n",
    "            right.pop(0)\n",
    "            \n",
    "    if len(left) == 0 and len(right) > 0:\n",
    "        for i in right:\n",
    "            final.append(i)\n",
    "    elif len(right) == 0 and len(left) > 0:\n",
    "        for i in left:\n",
    "            final.append(i)\n",
    "    \n",
    "    return final\n",
    "        \n",
    "    \n",
    "    "
   ]
  },
  {
   "cell_type": "code",
   "execution_count": 31,
   "metadata": {
    "collapsed": false
   },
   "outputs": [
    {
     "name": "stdout",
     "output_type": "stream",
     "text": [
      "left array: \n",
      "[70, 32, 65]\n",
      "right array:\n",
      "[24, 35, 74]\n",
      "left array: \n",
      "[70]\n",
      "right array:\n",
      "[32, 65]\n",
      "left array: \n",
      "[32]\n",
      "right array:\n",
      "[65]\n",
      "left array: \n",
      "[24]\n",
      "right array:\n",
      "[35, 74]\n",
      "left array: \n",
      "[35]\n",
      "right array:\n",
      "[74]\n"
     ]
    },
    {
     "data": {
      "text/plain": [
       "[24, 32, 35, 65, 70, 74]"
      ]
     },
     "execution_count": 31,
     "metadata": {},
     "output_type": "execute_result"
    }
   ],
   "source": [
    "merge_sort(array)"
   ]
  },
  {
   "cell_type": "code",
   "execution_count": 10,
   "metadata": {
    "collapsed": false
   },
   "outputs": [
    {
     "data": {
      "text/plain": [
       "array([84, 19, 11, 92, 23, 68, 77, 34, 18, 81, 85, 96, 21, 88,  7, 48, 67,\n",
       "       69, 31, 70, 68, 68, 29, 55, 29, 36, 97, 32, 58, 83, 78, 73, 16, 72,\n",
       "       51, 72,  6, 36, 69, 78])"
      ]
     },
     "execution_count": 10,
     "metadata": {},
     "output_type": "execute_result"
    }
   ],
   "source": [
    "ar = np.random.random_integers(0,99,40)\n",
    "ar"
   ]
  },
  {
   "cell_type": "code",
   "execution_count": 14,
   "metadata": {
    "collapsed": false
   },
   "outputs": [],
   "source": [
    "a = list(ar)"
   ]
  },
  {
   "cell_type": "code",
   "execution_count": 17,
   "metadata": {
    "collapsed": false
   },
   "outputs": [
    {
     "name": "stdout",
     "output_type": "stream",
     "text": [
      "[84, 19, 11, 92, 23, 68, 77, 34, 18, 81, 85, 96, 21, 88, 7, 48, 67, 69, 31, 70, 68, 68, 29, 55, 29, 36, 97, 32, 58, 83, 78, 73, 16, 72, 51, 72, 6, 36, 69, 78]\n"
     ]
    }
   ],
   "source": [
    "print a\n"
   ]
  },
  {
   "cell_type": "code",
   "execution_count": 18,
   "metadata": {
    "collapsed": false
   },
   "outputs": [
    {
     "name": "stdout",
     "output_type": "stream",
     "text": [
      "[19, 11, 92, 23, 68, 77, 34, 18, 81, 85, 96, 21, 88, 7, 48, 67, 69, 31, 70, 68, 68, 29, 55, 29, 36, 97, 32, 58, 83, 78, 73, 16, 72, 51, 72, 6, 36, 69, 78]\n"
     ]
    }
   ],
   "source": [
    "a.pop(0)\n",
    "print a"
   ]
  },
  {
   "cell_type": "code",
   "execution_count": null,
   "metadata": {
    "collapsed": true
   },
   "outputs": [],
   "source": []
  }
 ],
 "metadata": {
  "kernelspec": {
   "display_name": "Python 2",
   "language": "python",
   "name": "python2"
  },
  "language_info": {
   "codemirror_mode": {
    "name": "ipython",
    "version": 2
   },
   "file_extension": ".py",
   "mimetype": "text/x-python",
   "name": "python",
   "nbconvert_exporter": "python",
   "pygments_lexer": "ipython2",
   "version": "2.7.9"
  }
 },
 "nbformat": 4,
 "nbformat_minor": 0
}
