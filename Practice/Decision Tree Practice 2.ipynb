{
 "cells": [
  {
   "cell_type": "code",
   "execution_count": 29,
   "metadata": {
    "collapsed": false
   },
   "outputs": [
    {
     "data": {
      "text/html": [
       "<style>\n",
       ".container { \n",
       "\n",
       "  width:100% !important;\n",
       "  background-color: #1b202b !important;\n",
       " }\n",
       "/*body {background-color: #1b202b;}\n",
       "/*\n",
       "\n",
       "    Name:       Base16 Ocean Dark\n",
       "    Author:     Chris Kempson (http://chriskempson.com)\n",
       "\n",
       "    CodeMirror template adapted for IPython Notebook by Nikhil Sonnad (https://github.com/nsonnad/base16-ipython-notebook)\n",
       "    CodeMirror template by Jan T. Sott (https://github.com/idleberg/base16-chrome-devtools)\n",
       "    Original Base16 color scheme by Chris Kempson (https://github.com/chriskempson/base16)\n",
       "\n",
       "*/\n",
       "\n",
       "/* Uncomment to use a custom font\n",
       "div#notebook, div.CodeMirror, div.output_area pre, div.output_wrapper, div.prompt {\n",
       "  font-family: 'Custom Font Name', monospace !important;\n",
       "}\n",
       "*/\n",
       "\n",
       "/* GLOBALS */\n",
       "body {background-color: #1b202b; color: #777;}\n",
       "a {color: #8fa1b3;}\n",
       "\n",
       "/* INTRO PAGE */\n",
       ".toolbar_info, .list_container {color: #dfe1e8;}\n",
       "\n",
       "/* NOTEBOOK */\n",
       "\n",
       "/* comment out this line to bring the toolbar back */\n",
       "/*div#maintoolbar, div#header {display: none !important;}\n",
       "*/\n",
       "\n",
       "/*div.header {background-color: #1b202b;}\n",
       "*//*div.lower-header-bar {background-color: #1b202b;}\n",
       "*/\n",
       "div#maintoolbar {background-color: #1b202b;}\n",
       "div#maintoolbar {color: #fff;}\n",
       "\n",
       "div#notebook {border-top: none; background-color: #1b202b;}\n",
       "div.navbar-collapse {background-color: #1b202b;}\n",
       "div#maintoolbar-container {display: none !important;}\n",
       "div#header-container {display: none !important;}\n",
       "\n",
       "\n",
       "div.input_prompt {color: #ab7967;}\n",
       "div.output_prompt {color: #b48ead;}\n",
       "div.input_area {\n",
       "  border-radius: 0px;\n",
       "  border: 1px solid #4f5b66;\n",
       "}\n",
       "div.output_area pre {font-weight: normal; color: #c0c5ce;}\n",
       "div.output_subarea {font-weight: normal; color: #c0c5ce;}\n",
       "\n",
       ".rendered_html table, .rendered_html th, .rendered_html tr, .rendered_html td {\n",
       "  border: 1px  #c0c5ce solid;\n",
       "  color: #c0c5ce;\n",
       "}\n",
       "div.output_html { font-family: sans-serif; }\n",
       "table.dataframe tr {border: 1px #c0c5ce;}\n",
       "\n",
       "div.cell.selected {border-radius: 0px;}\n",
       "div.cell.edit_mode {border-radius: 0px; border: thin solid #b48ead;}\n",
       "div.text_cell_render, div.output_html {color: #c0c5ce;}\n",
       "\n",
       "span.ansiblack {color: #343d46;}\n",
       "span.ansiblue {color: #96b5b4;}\n",
       "span.ansigray {color: #a7adba;}\n",
       "span.ansigreen {color: #a3be8c;}\n",
       "span.ansipurple {color: #b48ead;}\n",
       "span.ansired {color: #bf616a;}\n",
       "span.ansiyellow {color: #ebcb8b;}\n",
       "\n",
       "div.output_stderr {background-color: #bf616a;}\n",
       "div.output_stderr pre {color: #dfe1e8;}\n",
       "\n",
       ".cm-s-ipython.CodeMirror {background: #1b202b; color: #dfe1e8;}\n",
       ".cm-s-ipython div.CodeMirror-selected {background: #343d46 !important;}\n",
       ".cm-s-ipython .CodeMirror-gutters {background: #2b303b; border-right: 0px;}\n",
       ".cm-s-ipython .CodeMirror-linenumber {color: #65737e;}\n",
       ".cm-s-ipython .CodeMirror-cursor {border-left: 1px solid #a7adba !important;}\n",
       "\n",
       ".cm-s-ipython span.cm-comment {color: #ab7967;}\n",
       ".cm-s-ipython span.cm-atom {color: #b48ead;}\n",
       ".cm-s-ipython span.cm-number {color: #b48ead;}\n",
       "\n",
       ".cm-s-ipython span.cm-property, .cm-s-ipython span.cm-attribute {color: #a3be8c;}\n",
       ".cm-s-ipython span.cm-keyword {color: #bf616a;}\n",
       ".cm-s-ipython span.cm-string {color: #ebcb8b;}\n",
       ".cm-s-ipython span.cm-operator {color: #ab7967;}\n",
       ".cm-s-ipython span.cm-builtin {color: #b48ead;}\n",
       "\n",
       ".cm-s-ipython span.cm-variable {color: #a3be8c;}\n",
       ".cm-s-ipython span.cm-variable-2 {color: #8fa1b3;}\n",
       ".cm-s-ipython span.cm-def {color: #d08770;}\n",
       ".cm-s-ipython span.cm-error {background: #bf616a; color: #a7adba;}\n",
       ".cm-s-ipython span.cm-bracket {color: #c0c5ce;}\n",
       ".cm-s-ipython span.cm-tag {color: #bf616a;}\n",
       ".cm-s-ipython span.cm-link {color: #b48ead;}\n",
       "\n",
       ".cm-s-ipython .CodeMirror-matchingbracket { text-decoration: underline; color: #dfe1e8 !important;}\n",
       "*/\n",
       "</style>\n"
      ],
      "text/plain": [
       "<IPython.core.display.HTML object>"
      ]
     },
     "execution_count": 29,
     "metadata": {},
     "output_type": "execute_result"
    }
   ],
   "source": [
    "from IPython.core.display import HTML\n",
    "def css_styling():\n",
    "    styles = open(\"/Users/jeremynixon/Dropbox/python/custom.css\", \"r\").read()\n",
    "    return HTML(styles)\n",
    "css_styling()"
   ]
  },
  {
   "cell_type": "code",
   "execution_count": 19,
   "metadata": {
    "collapsed": true
   },
   "outputs": [],
   "source": [
    "import numpy as np\n",
    "import pandas as pd\n",
    "import math\n",
    "import random"
   ]
  },
  {
   "cell_type": "code",
   "execution_count": 40,
   "metadata": {
    "collapsed": false
   },
   "outputs": [],
   "source": [
    "import sklearn.cross_validation\n",
    "iris = pd.read_csv('iris.data', header=None)\n",
    "# iris = iris[iris[4] != 'Iris-setosa']\n",
    "# iris = iris.reset_index(drop=True)\n",
    "y = iris[4]\n",
    "iris = iris.drop([4], 1)\n",
    "x_train, x_test, y_train, y_test = sklearn.cross_validation.train_test_split(iris, y, test_size = .20, random_state=42)"
   ]
  },
  {
   "cell_type": "code",
   "execution_count": 112,
   "metadata": {
    "collapsed": false
   },
   "outputs": [],
   "source": [
    "votes = pd.read_csv('votes.csv')\n",
    "votes = votes.replace('?', float('NaN'))\n",
    "votes = votes.dropna()\n",
    "votes = votes.reset_index(drop=True)\n",
    "labels = votes['0']\n",
    "votes = votes.drop('0', axis = 1)\n",
    "votes = votes.replace('y', 1)\n",
    "votes = votes.replace('n', 0)\n",
    "votes = np.array(votes)"
   ]
  },
  {
   "cell_type": "code",
   "execution_count": 173,
   "metadata": {
    "collapsed": false
   },
   "outputs": [],
   "source": [
    "class Tree(object):\n",
    "    def __init__(self, parent = None):\n",
    "        self.parent = parent\n",
    "        self.children = []\n",
    "        self.label = None\n",
    "        self.split_feature = None\n",
    "        self.split_feature_value = None\n",
    "\n",
    "def data_to_density(y_train):\n",
    "    density = []\n",
    "    for type in set(y_train):\n",
    "        density.append(float(list(y_train).count(type))/len(y_train))\n",
    "    return density\n",
    "\n",
    "def entropy(probabilities):\n",
    "    return -sum(p * math.log(p, 2) for p in probabilities)\n",
    "\n",
    "def split_data(x_train, y_train, feature_index):\n",
    "    x_train = np.array(x_train)\n",
    "    for label in set(x_train[:, feature_index]):\n",
    "        data_subset = []\n",
    "        for index, datapoint in enumerate(x_train):\n",
    "            if datapoint[feature_index] == label:\n",
    "                data_subset.append([datapoint, index])\n",
    "        yield data_subset\n",
    "        \n",
    "def gain(x_train, y_train, feature_index):\n",
    "    entropy_gain = entropy(data_to_density(y_train))\n",
    "    for data_subset in split_data(x_train, y_train, feature_index):\n",
    "        entropy_gain -= entropy(data_to_density([label for (point, label) in data_subset]))\n",
    "    return entropy_gain\n",
    "\n",
    "def homogeneous(y_train):\n",
    "    return len(set(y_train)) <= 1\n",
    "\n",
    "def majority_vote(y_train, node):\n",
    "    choice = max(set(y_train), key=list(y_train).count)\n",
    "    node.label = choice\n",
    "    return node\n",
    "\n",
    "def build_decision_tree(x_train, y_train, root, remaining_features):\n",
    "    x_train = np.array(x_train)\n",
    "    y_train = np.array(y_train)\n",
    "    if homogeneous(y_train):\n",
    "        root.label = y_train[0]\n",
    "        return root\n",
    "    \n",
    "    if len(remaining_features) == 0:\n",
    "        return majority_vote(y_train, root)\n",
    "    \n",
    "    best_feature = max(remaining_features, key = lambda index: \n",
    "                       gain(x_train, y_train, index))\n",
    "    \n",
    "    if gain(x_train, y_train, best_feature) == 0:\n",
    "        return majority_vote(y_train, root)\n",
    "    \n",
    "    root.split_feature = best_feature\n",
    "    \n",
    "    for data_subset in split_data(x_train, y_train, best_feature):\n",
    "        child = Tree(parent=root)\n",
    "        child.split_feature_value = data_subset[0][0][best_feature]\n",
    "        root.children.append(child)\n",
    "        \n",
    "        new_x = np.array([point for (point, label) in data_subset])\n",
    "        new_y = np.array([label for (point, label) in data_subset])\n",
    "        \n",
    "        build_decision_tree(new_x, new_y, child, remaining_features - set([best_feature]))\n",
    "        \n",
    "        return root\n",
    "    \n",
    "def decision_tree(x_train, y_train):\n",
    "    return build_decision_tree(x_train, y_train, Tree(), set(range(len(x_train[0]))))\n",
    "\n",
    "def classify(tree, point):\n",
    "    if tree.children == []:\n",
    "        return tree.label\n",
    "    \n",
    "    else:\n",
    "        for child in tree.children:\n",
    "            print child.split_feature_value\n",
    "            print point[tree.split_feature]\n",
    "        matching_children = [child for child in tree.children\n",
    "                if child.split_feature_value == point[tree.split_feature]]\n",
    "        return classify(matching_children[0], point)\n",
    "    \n",
    "def text_classification(array, value):\n",
    "    nearest = (np.abs(array-value)).argmin()\n",
    "    return array[nearest]"
   ]
  },
  {
   "cell_type": "code",
   "execution_count": 174,
   "metadata": {
    "collapsed": false
   },
   "outputs": [
    {
     "name": "stdout",
     "output_type": "stream",
     "text": [
      "2.5\n",
      "[ 5.7  3.8  1.7  0.3]\n"
     ]
    },
    {
     "ename": "ValueError",
     "evalue": "The truth value of an array with more than one element is ambiguous. Use a.any() or a.all()",
     "output_type": "error",
     "traceback": [
      "\u001b[0;31m---------------------------------------------------------------------------\u001b[0m",
      "\u001b[0;31mValueError\u001b[0m                                Traceback (most recent call last)",
      "\u001b[0;32m<ipython-input-174-01aa5bb2a55e>\u001b[0m in \u001b[0;36m<module>\u001b[0;34m()\u001b[0m\n\u001b[1;32m      1\u001b[0m \u001b[0mtree\u001b[0m \u001b[0;34m=\u001b[0m \u001b[0mdecision_tree\u001b[0m\u001b[0;34m(\u001b[0m\u001b[0mx_train\u001b[0m\u001b[0;34m,\u001b[0m \u001b[0my_train\u001b[0m\u001b[0;34m)\u001b[0m\u001b[0;34m\u001b[0m\u001b[0m\n\u001b[1;32m      2\u001b[0m \u001b[0;32mfor\u001b[0m \u001b[0mtest\u001b[0m \u001b[0;32min\u001b[0m \u001b[0mx_test\u001b[0m\u001b[0;34m:\u001b[0m\u001b[0;34m\u001b[0m\u001b[0m\n\u001b[0;32m----> 3\u001b[0;31m     \u001b[0;32mprint\u001b[0m \u001b[0mclassify\u001b[0m\u001b[0;34m(\u001b[0m\u001b[0mtree\u001b[0m\u001b[0;34m,\u001b[0m \u001b[0mx_test\u001b[0m\u001b[0;34m)\u001b[0m\u001b[0;34m\u001b[0m\u001b[0m\n\u001b[0m",
      "\u001b[0;32m<ipython-input-173-90eb162be797>\u001b[0m in \u001b[0;36mclassify\u001b[0;34m(tree, point)\u001b[0m\n\u001b[1;32m     81\u001b[0m             \u001b[0;32mprint\u001b[0m \u001b[0mpoint\u001b[0m\u001b[0;34m[\u001b[0m\u001b[0mtree\u001b[0m\u001b[0;34m.\u001b[0m\u001b[0msplit_feature\u001b[0m\u001b[0;34m]\u001b[0m\u001b[0;34m\u001b[0m\u001b[0m\n\u001b[1;32m     82\u001b[0m         matching_children = [child for child in tree.children\n\u001b[0;32m---> 83\u001b[0;31m                 if child.split_feature_value == point[tree.split_feature]]\n\u001b[0m\u001b[1;32m     84\u001b[0m         \u001b[0;32mreturn\u001b[0m \u001b[0mclassify\u001b[0m\u001b[0;34m(\u001b[0m\u001b[0mmatching_children\u001b[0m\u001b[0;34m[\u001b[0m\u001b[0;36m0\u001b[0m\u001b[0;34m]\u001b[0m\u001b[0;34m,\u001b[0m \u001b[0mpoint\u001b[0m\u001b[0;34m)\u001b[0m\u001b[0;34m\u001b[0m\u001b[0m\n\u001b[1;32m     85\u001b[0m \u001b[0;34m\u001b[0m\u001b[0m\n",
      "\u001b[0;31mValueError\u001b[0m: The truth value of an array with more than one element is ambiguous. Use a.any() or a.all()"
     ]
    }
   ],
   "source": [
    "tree = decision_tree(x_train, y_train)\n",
    "for test in x_test:\n",
    "    print classify(tree, x_test)"
   ]
  },
  {
   "cell_type": "code",
   "execution_count": 145,
   "metadata": {
    "collapsed": false
   },
   "outputs": [
    {
     "data": {
      "text/plain": [
       "-48.69017900257295"
      ]
     },
     "execution_count": 145,
     "metadata": {},
     "output_type": "execute_result"
    }
   ],
   "source": [
    "gain(x_train, y_train, 2)"
   ]
  },
  {
   "cell_type": "code",
   "execution_count": 135,
   "metadata": {
    "collapsed": false
   },
   "outputs": [
    {
     "data": {
      "text/plain": [
       "0.9965663713274553"
      ]
     },
     "execution_count": 135,
     "metadata": {},
     "output_type": "execute_result"
    }
   ],
   "source": [
    "entropy(data_to_density(labels))"
   ]
  },
  {
   "cell_type": "code",
   "execution_count": null,
   "metadata": {
    "collapsed": true
   },
   "outputs": [],
   "source": []
  }
 ],
 "metadata": {
  "kernelspec": {
   "display_name": "Python 2",
   "language": "python",
   "name": "python2"
  },
  "language_info": {
   "codemirror_mode": {
    "name": "ipython",
    "version": 2
   },
   "file_extension": ".py",
   "mimetype": "text/x-python",
   "name": "python",
   "nbconvert_exporter": "python",
   "pygments_lexer": "ipython2",
   "version": "2.7.9"
  }
 },
 "nbformat": 4,
 "nbformat_minor": 0
}
