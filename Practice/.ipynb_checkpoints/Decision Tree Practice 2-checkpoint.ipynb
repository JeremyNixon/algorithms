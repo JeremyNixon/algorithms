{
 "cells": [
  {
   "cell_type": "code",
   "execution_count": 29,
   "metadata": {
    "collapsed": false
   },
   "outputs": [
    {
     "data": {
      "text/html": [
       "<style>\n",
       ".container { \n",
       "\n",
       "  width:100% !important;\n",
       "  background-color: #1b202b !important;\n",
       " }\n",
       "/*body {background-color: #1b202b;}\n",
       "/*\n",
       "\n",
       "    Name:       Base16 Ocean Dark\n",
       "    Author:     Chris Kempson (http://chriskempson.com)\n",
       "\n",
       "    CodeMirror template adapted for IPython Notebook by Nikhil Sonnad (https://github.com/nsonnad/base16-ipython-notebook)\n",
       "    CodeMirror template by Jan T. Sott (https://github.com/idleberg/base16-chrome-devtools)\n",
       "    Original Base16 color scheme by Chris Kempson (https://github.com/chriskempson/base16)\n",
       "\n",
       "*/\n",
       "\n",
       "/* Uncomment to use a custom font\n",
       "div#notebook, div.CodeMirror, div.output_area pre, div.output_wrapper, div.prompt {\n",
       "  font-family: 'Custom Font Name', monospace !important;\n",
       "}\n",
       "*/\n",
       "\n",
       "/* GLOBALS */\n",
       "body {background-color: #1b202b; color: #777;}\n",
       "a {color: #8fa1b3;}\n",
       "\n",
       "/* INTRO PAGE */\n",
       ".toolbar_info, .list_container {color: #dfe1e8;}\n",
       "\n",
       "/* NOTEBOOK */\n",
       "\n",
       "/* comment out this line to bring the toolbar back */\n",
       "/*div#maintoolbar, div#header {display: none !important;}\n",
       "*/\n",
       "\n",
       "/*div.header {background-color: #1b202b;}\n",
       "*//*div.lower-header-bar {background-color: #1b202b;}\n",
       "*/\n",
       "div#maintoolbar {background-color: #1b202b;}\n",
       "div#maintoolbar {color: #fff;}\n",
       "\n",
       "div#notebook {border-top: none; background-color: #1b202b;}\n",
       "div.navbar-collapse {background-color: #1b202b;}\n",
       "div#maintoolbar-container {display: none !important;}\n",
       "div#header-container {display: none !important;}\n",
       "\n",
       "\n",
       "div.input_prompt {color: #ab7967;}\n",
       "div.output_prompt {color: #b48ead;}\n",
       "div.input_area {\n",
       "  border-radius: 0px;\n",
       "  border: 1px solid #4f5b66;\n",
       "}\n",
       "div.output_area pre {font-weight: normal; color: #c0c5ce;}\n",
       "div.output_subarea {font-weight: normal; color: #c0c5ce;}\n",
       "\n",
       ".rendered_html table, .rendered_html th, .rendered_html tr, .rendered_html td {\n",
       "  border: 1px  #c0c5ce solid;\n",
       "  color: #c0c5ce;\n",
       "}\n",
       "div.output_html { font-family: sans-serif; }\n",
       "table.dataframe tr {border: 1px #c0c5ce;}\n",
       "\n",
       "div.cell.selected {border-radius: 0px;}\n",
       "div.cell.edit_mode {border-radius: 0px; border: thin solid #b48ead;}\n",
       "div.text_cell_render, div.output_html {color: #c0c5ce;}\n",
       "\n",
       "span.ansiblack {color: #343d46;}\n",
       "span.ansiblue {color: #96b5b4;}\n",
       "span.ansigray {color: #a7adba;}\n",
       "span.ansigreen {color: #a3be8c;}\n",
       "span.ansipurple {color: #b48ead;}\n",
       "span.ansired {color: #bf616a;}\n",
       "span.ansiyellow {color: #ebcb8b;}\n",
       "\n",
       "div.output_stderr {background-color: #bf616a;}\n",
       "div.output_stderr pre {color: #dfe1e8;}\n",
       "\n",
       ".cm-s-ipython.CodeMirror {background: #1b202b; color: #dfe1e8;}\n",
       ".cm-s-ipython div.CodeMirror-selected {background: #343d46 !important;}\n",
       ".cm-s-ipython .CodeMirror-gutters {background: #2b303b; border-right: 0px;}\n",
       ".cm-s-ipython .CodeMirror-linenumber {color: #65737e;}\n",
       ".cm-s-ipython .CodeMirror-cursor {border-left: 1px solid #a7adba !important;}\n",
       "\n",
       ".cm-s-ipython span.cm-comment {color: #ab7967;}\n",
       ".cm-s-ipython span.cm-atom {color: #b48ead;}\n",
       ".cm-s-ipython span.cm-number {color: #b48ead;}\n",
       "\n",
       ".cm-s-ipython span.cm-property, .cm-s-ipython span.cm-attribute {color: #a3be8c;}\n",
       ".cm-s-ipython span.cm-keyword {color: #bf616a;}\n",
       ".cm-s-ipython span.cm-string {color: #ebcb8b;}\n",
       ".cm-s-ipython span.cm-operator {color: #ab7967;}\n",
       ".cm-s-ipython span.cm-builtin {color: #b48ead;}\n",
       "\n",
       ".cm-s-ipython span.cm-variable {color: #a3be8c;}\n",
       ".cm-s-ipython span.cm-variable-2 {color: #8fa1b3;}\n",
       ".cm-s-ipython span.cm-def {color: #d08770;}\n",
       ".cm-s-ipython span.cm-error {background: #bf616a; color: #a7adba;}\n",
       ".cm-s-ipython span.cm-bracket {color: #c0c5ce;}\n",
       ".cm-s-ipython span.cm-tag {color: #bf616a;}\n",
       ".cm-s-ipython span.cm-link {color: #b48ead;}\n",
       "\n",
       ".cm-s-ipython .CodeMirror-matchingbracket { text-decoration: underline; color: #dfe1e8 !important;}\n",
       "*/\n",
       "</style>\n"
      ],
      "text/plain": [
       "<IPython.core.display.HTML object>"
      ]
     },
     "execution_count": 29,
     "metadata": {},
     "output_type": "execute_result"
    }
   ],
   "source": [
    "from IPython.core.display import HTML\n",
    "def css_styling():\n",
    "    styles = open(\"/Users/jeremynixon/Dropbox/python/custom.css\", \"r\").read()\n",
    "    return HTML(styles)\n",
    "css_styling()"
   ]
  },
  {
   "cell_type": "code",
   "execution_count": 19,
   "metadata": {
    "collapsed": true
   },
   "outputs": [],
   "source": [
    "import numpy as np\n",
    "import pandas as pd\n",
    "import math\n",
    "import random"
   ]
  },
  {
   "cell_type": "code",
   "execution_count": 40,
   "metadata": {
    "collapsed": false
   },
   "outputs": [],
   "source": [
    "import sklearn.cross_validation\n",
    "iris = pd.read_csv('iris.data', header=None)\n",
    "# iris = iris[iris[4] != 'Iris-setosa']\n",
    "# iris = iris.reset_index(drop=True)\n",
    "y = iris[4]\n",
    "iris = iris.drop([4], 1)\n",
    "x_train, x_test, y_train, y_test = sklearn.cross_validation.train_test_split(iris, y, test_size = .20, random_state=42)"
   ]
  },
  {
   "cell_type": "code",
   "execution_count": 63,
   "metadata": {
    "collapsed": false
   },
   "outputs": [],
   "source": [
    "votes = pd.read_csv('votes.csv')\n",
    "votes = votes.replace('?', float('NaN'))\n",
    "votes = votes.dropna()\n",
    "votes = votes.reset_index(drop=True)\n",
    "labels = votes['0']\n",
    "votes = votes.drop('0', axis = 1)\n",
    "votes = votes.replace('y', 1)\n",
    "votes = votes.replace('n', 0)"
   ]
  },
  {
   "cell_type": "code",
   "execution_count": 58,
   "metadata": {
    "collapsed": true
   },
   "outputs": [],
   "source": [
    "class Tree(object):\n",
    "    def __init__(self, parent = None):\n",
    "        self.parent = parent\n",
    "        self.children = []\n",
    "        self.label = None\n",
    "        self.split_feature = None\n",
    "        self.split_feature_value = None\n",
    "\n",
    "def data_to_density(y_train):\n",
    "    density = []\n",
    "    for type in set(y_train):\n",
    "        density.append(float(list(y_train).count(type))/len(y_train))\n",
    "    return density\n",
    "\n",
    "def entropy(probabilities):\n",
    "    return -sum(p * math.log(p, 2) for p in probabilities)\n",
    "\n"
   ]
  },
  {
   "cell_type": "code",
   "execution_count": 59,
   "metadata": {
    "collapsed": false
   },
   "outputs": [
    {
     "data": {
      "text/plain": [
       "40"
      ]
     },
     "execution_count": 59,
     "metadata": {},
     "output_type": "execute_result"
    }
   ],
   "source": [
    "list(y_train).count(y_train[1])"
   ]
  },
  {
   "cell_type": "code",
   "execution_count": 60,
   "metadata": {
    "collapsed": false
   },
   "outputs": [
    {
     "data": {
      "text/plain": [
       "1.5846619079379884"
      ]
     },
     "execution_count": 60,
     "metadata": {},
     "output_type": "execute_result"
    }
   ],
   "source": [
    "entropy(data_to_density(labels))"
   ]
  },
  {
   "cell_type": "code",
   "execution_count": null,
   "metadata": {
    "collapsed": true
   },
   "outputs": [],
   "source": []
  }
 ],
 "metadata": {
  "kernelspec": {
   "display_name": "Python 2",
   "language": "python",
   "name": "python2"
  },
  "language_info": {
   "codemirror_mode": {
    "name": "ipython",
    "version": 2
   },
   "file_extension": ".py",
   "mimetype": "text/x-python",
   "name": "python",
   "nbconvert_exporter": "python",
   "pygments_lexer": "ipython2",
   "version": "2.7.9"
  }
 },
 "nbformat": 4,
 "nbformat_minor": 0
}
