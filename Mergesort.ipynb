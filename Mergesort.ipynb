{
 "metadata": {
  "name": "",
  "signature": "sha256:871f2fbb3c048a76980281380eca1902fbc4ae2ec864402d44e05610f4b7efd9"
 },
 "nbformat": 3,
 "nbformat_minor": 0,
 "worksheets": [
  {
   "cells": [
    {
     "cell_type": "code",
     "collapsed": false,
     "input": [
      "import numpy as np"
     ],
     "language": "python",
     "metadata": {},
     "outputs": [],
     "prompt_number": 1
    },
    {
     "cell_type": "code",
     "collapsed": false,
     "input": [
      "l = np.random.randint(0,20000,200000)\n",
      "l"
     ],
     "language": "python",
     "metadata": {},
     "outputs": [
      {
       "metadata": {},
       "output_type": "pyout",
       "prompt_number": 79,
       "text": [
        "array([18254,  5028,   725, ...,  2705, 19380,  3524])"
       ]
      }
     ],
     "prompt_number": 79
    },
    {
     "cell_type": "code",
     "collapsed": false,
     "input": [
      "def mergesort(l):\n",
      "    l = list(l)\n",
      "    result = []\n",
      "    if len(l) <= 1:\n",
      "        return l\n",
      "    mid = len(l)//2\n",
      "    right = l[mid:len(l)]\n",
      "    left = l[0:mid]\n",
      "    \n",
      "    left = mergesort(left)\n",
      "    right = mergesort(right)\n",
      "    while (len(left) > 0) or (len(right) > 0):\n",
      "        if len(left) > 0 and len(right) > 0:\n",
      "            if left[0] > right[0]:\n",
      "                result.append(right[0])\n",
      "                right.pop(0)\n",
      "            else:\n",
      "                result.append(left[0])\n",
      "                left.pop(0)\n",
      "        elif len(right) > 0:\n",
      "            for i in right:\n",
      "                result.append(i)\n",
      "                right.pop(0)\n",
      "        else:\n",
      "            for i in left:\n",
      "                result.append(i)\n",
      "                left.pop(0)\n",
      "                \n",
      "    return result"
     ],
     "language": "python",
     "metadata": {},
     "outputs": [],
     "prompt_number": 71
    },
    {
     "cell_type": "code",
     "collapsed": false,
     "input": [
      "mergesort(l)"
     ],
     "language": "python",
     "metadata": {},
     "outputs": []
    },
    {
     "cell_type": "code",
     "collapsed": false,
     "input": [],
     "language": "python",
     "metadata": {},
     "outputs": []
    }
   ],
   "metadata": {}
  }
 ]
}