{
 "metadata": {
  "name": "",
  "signature": "sha256:d7314217de0990c50f51f341c3e816958d0a9c5e5e4a37b223583cd45fc51c24"
 },
 "nbformat": 3,
 "nbformat_minor": 0,
 "worksheets": [
  {
   "cells": [
    {
     "cell_type": "code",
     "collapsed": false,
     "input": [
      "import numpy as np"
     ],
     "language": "python",
     "metadata": {},
     "outputs": [],
     "prompt_number": 1
    },
    {
     "cell_type": "code",
     "collapsed": false,
     "input": [
      "s = np.random.randint(0,20,15)\n",
      "s"
     ],
     "language": "python",
     "metadata": {},
     "outputs": [
      {
       "metadata": {},
       "output_type": "pyout",
       "prompt_number": 4,
       "text": [
        "array([12, 11,  8, 15, 17,  4,  2,  2, 15, 18, 12,  2,  8, 11, 15])"
       ]
      }
     ],
     "prompt_number": 4
    },
    {
     "cell_type": "code",
     "collapsed": false,
     "input": [
      "def quicksort(s, l, h):\n",
      "    if ((h-1) > 0):\n",
      "        p = partition(s,l,h)\n",
      "        return quicksort(s,1,p-1)\n",
      "        return quicksort(s,p+1, h)"
     ],
     "language": "python",
     "metadata": {},
     "outputs": [],
     "prompt_number": 6
    },
    {
     "cell_type": "code",
     "collapsed": false,
     "input": [
      "def partition(s, l, h):\n",
      "    p = h\n",
      "    firsthigh = 1\n",
      "    for i in range(1,h):\n",
      "        if s[i] < s[p]:\n",
      "            temp = s[firsthigh]\n",
      "            s[firsthigh] = s[i]\n",
      "            s[i] = temp\n",
      "            firsthigh = firsthigh + 1\n",
      "    temp = s[firsthigh]\n",
      "    s[firsthigh] = s[p]\n",
      "    s[p] = temp\n",
      "    return(firsthigh)"
     ],
     "language": "python",
     "metadata": {},
     "outputs": [],
     "prompt_number": 8
    },
    {
     "cell_type": "code",
     "collapsed": false,
     "input": [
      "quicksort(s, 0, len(s)-1)\n",
      "s"
     ],
     "language": "python",
     "metadata": {},
     "outputs": [
      {
       "metadata": {},
       "output_type": "pyout",
       "prompt_number": 13,
       "text": [
        "array([12,  2,  2,  2,  4,  8,  8, 11, 12, 11, 15, 15, 15, 17, 18])"
       ]
      }
     ],
     "prompt_number": 13
    },
    {
     "cell_type": "code",
     "collapsed": false,
     "input": [],
     "language": "python",
     "metadata": {},
     "outputs": []
    }
   ],
   "metadata": {}
  }
 ]
}