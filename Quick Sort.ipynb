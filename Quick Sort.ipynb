{
 "cells": [
  {
   "cell_type": "code",
   "execution_count": 1,
   "metadata": {
    "collapsed": false
   },
   "outputs": [],
   "source": [
    "import numpy as np"
   ]
  },
  {
   "cell_type": "code",
   "execution_count": 2,
   "metadata": {
    "collapsed": false
   },
   "outputs": [
    {
     "data": {
      "text/plain": [
       "array([ 7,  4,  9, 11, 12, 15, 14, 14,  5,  2, 15, 19, 15, 14,  0])"
      ]
     },
     "execution_count": 2,
     "metadata": {},
     "output_type": "execute_result"
    }
   ],
   "source": [
    "s = np.random.randint(0,20,15)\n",
    "s"
   ]
  },
  {
   "cell_type": "code",
   "execution_count": 3,
   "metadata": {
    "collapsed": false
   },
   "outputs": [],
   "source": [
    "def quicksort(s, l, h):\n",
    "    if ((h-1) > 0):\n",
    "        p = partition(s,l,h)\n",
    "        return quicksort(s,1,p-1)\n",
    "        return quicksort(s,p+1, h)"
   ]
  },
  {
   "cell_type": "code",
   "execution_count": 4,
   "metadata": {
    "collapsed": false
   },
   "outputs": [],
   "source": [
    "def partition(s, l, h):\n",
    "    p = h\n",
    "    firsthigh = 1\n",
    "    for i in range(1,h):\n",
    "        if s[i] < s[p]:\n",
    "            temp = s[firsthigh]\n",
    "            s[firsthigh] = s[i]\n",
    "            s[i] = temp\n",
    "            firsthigh = firsthigh + 1\n",
    "    temp = s[firsthigh]\n",
    "    s[firsthigh] = s[p]\n",
    "    s[p] = temp\n",
    "    return(firsthigh)"
   ]
  },
  {
   "cell_type": "code",
   "execution_count": 5,
   "metadata": {
    "collapsed": false
   },
   "outputs": [
    {
     "data": {
      "text/plain": [
       "array([ 7,  0,  9, 11, 12, 15, 14, 14,  5,  2, 15, 19, 15, 14,  4])"
      ]
     },
     "execution_count": 5,
     "metadata": {},
     "output_type": "execute_result"
    }
   ],
   "source": [
    "quicksort(s, 0, len(s)-1)\n",
    "s"
   ]
  },
  {
   "cell_type": "code",
   "execution_count": null,
   "metadata": {
    "collapsed": false
   },
   "outputs": [],
   "source": []
  }
 ],
 "metadata": {
  "kernelspec": {
   "display_name": "Python 2",
   "language": "python",
   "name": "python2"
  },
  "language_info": {
   "codemirror_mode": {
    "name": "ipython",
    "version": 2
   },
   "file_extension": ".py",
   "mimetype": "text/x-python",
   "name": "python",
   "nbconvert_exporter": "python",
   "pygments_lexer": "ipython2",
   "version": "2.7.9"
  }
 },
 "nbformat": 4,
 "nbformat_minor": 0
}
