{
 "cells": [
  {
   "cell_type": "code",
   "execution_count": 2,
   "metadata": {
    "collapsed": true
   },
   "outputs": [],
   "source": [
    "import numpy as np"
   ]
  },
  {
   "cell_type": "code",
   "execution_count": 29,
   "metadata": {
    "collapsed": false
   },
   "outputs": [
    {
     "name": "stdout",
     "output_type": "stream",
     "text": [
      "[10 23  2 22 19]\n"
     ]
    }
   ],
   "source": [
    "array = np.random.random_integers(0,40,5)\n",
    "ar = array\n",
    "print array"
   ]
  },
  {
   "cell_type": "code",
   "execution_count": null,
   "metadata": {
    "collapsed": true
   },
   "outputs": [],
   "source": [
    "array = ar"
   ]
  },
  {
   "cell_type": "code",
   "execution_count": 33,
   "metadata": {
    "collapsed": false
   },
   "outputs": [],
   "source": [
    "def insertionSort(ar):\n",
    "    for i in range(1,len(ar)):\n",
    "        if i != 1:\n",
    "            print '\\n'\n",
    "        element = ar[i]\n",
    "        print \"Grab %i, at index %i\" %(element,i)\n",
    "        j = i-1\n",
    "        print \"Set the index j to be %i, which corresponds to %i in this array\" %(j,ar[j])\n",
    "        while element < ar[j] and j >=0:\n",
    "            ar[j+1] = ar[j]\n",
    "            j -= 1\n",
    "        ar[j+1] = element\n",
    "        for x in ar: print x,\n",
    "    \n",
    "                    "
   ]
  },
  {
   "cell_type": "code",
   "execution_count": 34,
   "metadata": {
    "collapsed": false
   },
   "outputs": [
    {
     "name": "stdout",
     "output_type": "stream",
     "text": [
      "Grab 23, at index 1\n",
      "Set the index j to be 0, which corresponds to 10 in this array\n",
      "10 23 2 22 19 \n",
      "\n",
      "Grab 2, at index 2\n",
      "Set the index j to be 1, which corresponds to 23 in this array\n",
      "2 10 23 22 19 \n",
      "\n",
      "Grab 22, at index 3\n",
      "Set the index j to be 2, which corresponds to 23 in this array\n",
      "2 10 22 23 19 \n",
      "\n",
      "Grab 19, at index 4\n",
      "Set the index j to be 3, which corresponds to 23 in this array\n",
      "2 10 19 22 23\n"
     ]
    }
   ],
   "source": [
    "array = ar.copy()\n",
    "insertionSort(array)"
   ]
  },
  {
   "cell_type": "code",
   "execution_count": null,
   "metadata": {
    "collapsed": true
   },
   "outputs": [],
   "source": []
  },
  {
   "cell_type": "code",
   "execution_count": null,
   "metadata": {
    "collapsed": true
   },
   "outputs": [],
   "source": []
  }
 ],
 "metadata": {
  "kernelspec": {
   "display_name": "Python 2",
   "language": "python",
   "name": "python2"
  },
  "language_info": {
   "codemirror_mode": {
    "name": "ipython",
    "version": 2
   },
   "file_extension": ".py",
   "mimetype": "text/x-python",
   "name": "python",
   "nbconvert_exporter": "python",
   "pygments_lexer": "ipython2",
   "version": "2.7.9"
  }
 },
 "nbformat": 4,
 "nbformat_minor": 0
}
