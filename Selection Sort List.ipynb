{
 "metadata": {
  "name": "",
  "signature": "sha256:4da8108c30a075b62a4fe4252e3abdd741042343abde1873717ece2b93961bcb"
 },
 "nbformat": 3,
 "nbformat_minor": 0,
 "worksheets": [
  {
   "cells": [
    {
     "cell_type": "code",
     "collapsed": false,
     "input": [
      "import numpy as np"
     ],
     "language": "python",
     "metadata": {},
     "outputs": [],
     "prompt_number": 1
    },
    {
     "cell_type": "code",
     "collapsed": false,
     "input": [
      "arr = np.random.randint(1,20,15)\n",
      "arr"
     ],
     "language": "python",
     "metadata": {},
     "outputs": [
      {
       "metadata": {},
       "output_type": "pyout",
       "prompt_number": 3,
       "text": [
        "array([ 3, 13,  3, 17,  9,  1, 17, 18,  4, 13,  4, 10,  8,  3,  7])"
       ]
      }
     ],
     "prompt_number": 3
    },
    {
     "cell_type": "code",
     "collapsed": false,
     "input": [
      "def selectionSort(arr):\n",
      "    for i in range(0,len(arr)):\n",
      "        minimum = i\n",
      "        for j in range(i, len(arr)):\n",
      "            if(arr[minimum] > arr[j]):\n",
      "                minimum = j\n",
      "        temp = arr[minimum]\n",
      "        arr[minimum] = arr[i]\n",
      "        arr[i] = temp\n",
      "    return arr\n",
      "            \n",
      "            "
     ],
     "language": "python",
     "metadata": {},
     "outputs": [],
     "prompt_number": 6
    },
    {
     "cell_type": "code",
     "collapsed": false,
     "input": [
      "selectionSort(arr)"
     ],
     "language": "python",
     "metadata": {},
     "outputs": [
      {
       "metadata": {},
       "output_type": "pyout",
       "prompt_number": 7,
       "text": [
        "array([ 1,  3,  3,  3,  4,  4,  7,  8,  9, 10, 13, 13, 17, 17, 18])"
       ]
      }
     ],
     "prompt_number": 7
    },
    {
     "cell_type": "code",
     "collapsed": false,
     "input": [],
     "language": "python",
     "metadata": {},
     "outputs": []
    }
   ],
   "metadata": {}
  }
 ]
}