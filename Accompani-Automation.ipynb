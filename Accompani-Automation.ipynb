{
 "cells": [
  {
   "cell_type": "code",
   "execution_count": 6,
   "metadata": {
    "collapsed": true
   },
   "outputs": [],
   "source": [
    "%matplotlib inline \n",
    "\n",
    "import urllib2\n",
    "import bs4 \n",
    "import pandas as pd\n",
    "import numpy as np"
   ]
  },
  {
   "cell_type": "code",
   "execution_count": 73,
   "metadata": {
    "collapsed": false,
    "scrolled": true
   },
   "outputs": [],
   "source": [
    "import time\n",
    "from selenium import webdriver\n",
    "from selenium.webdriver.common.by import By\n",
    "from selenium.webdriver.support.ui import WebDriverWait\n",
    "from selenium.webdriver.support import expected_conditions as EC\n",
    "from selenium.common.exceptions import TimeoutException\n",
    "from selenium.common.exceptions import NoSuchElementException\n",
    "from selenium.common.exceptions import ElementNotVisibleException\n",
    "import sys\n",
    "\n",
    "names_next = []\n",
    "driver = webdriver.Firefox()\n",
    "driver.get('https://www.google.com/search?q=mark+zuckerberg&ei=O8xoVePlOYWzyQSv24KYBA#q=mark+zuckerberg&stick=H4sIAAAAAAAAAGOovnz8BQMDgwkHsxCnfq6-gYVZSl6lEoKpJZWdbKVfkJpfkJMKpIqK8_OsijNTUssTK4snv3XxDSnam1eqFGX9xK6X50Xr8bsAbYLy7FEAAAA')\n",
    "page_source = driver.page_source\n",
    "time.sleep(1)\n",
    "buttons = driver.find_elements_by_class_name('_WCg')\n",
    "for button in range(0, len(buttons)):\n",
    "    #open_base(buttons[button])\n",
    "    time.sleep(2)\n",
    "    buttons = driver.find_elements_by_class_name('_WCg')\n",
    "    if 'Twitter' in driver.title:\n",
    "        driver.back()\n",
    "    if 'Daily Mail' in driver.title:\n",
    "        driver.back()\n",
    "    if 'Google+' in driver.title:\n",
    "        driver.back()\n",
    "    buttons[button].click()\n",
    "    time.sleep(2)\n",
    "    try:\n",
    "        new_button = driver.find_element_by_xpath(\"//a[contains(., 'People also search for')]\")\n",
    "        if 'Twitter' in driver.title:\n",
    "            driver.back()\n",
    "        if 'Daily Mail' in driver.title:\n",
    "            driver.back()\n",
    "        if 'Google+' in driver.title:\n",
    "            driver.back()\n",
    "        new_button.click()\n",
    "        time.sleep(2)\n",
    "        next_source = driver.page_source\n",
    "\n",
    "\n",
    "        source = next_source.split()\n",
    "        for i in range(len(source)):\n",
    "            if '\"_GCg' in source[i]:\n",
    "                while 'title' not in source[i]:\n",
    "                    i += 1\n",
    "                    if 'title' in source[i]:\n",
    "                        first = source[i][7:]\n",
    "                        if source[i+1][-1] == '\"':\n",
    "                            last = source[i+1][:-1]\n",
    "                        else:\n",
    "                            last = source[i+1]\n",
    "                        names_next.append([' '.join([first, last]), 2])\n",
    "                        print(len(names_next), 2)\n",
    "                        sys.stdout.flush()\n",
    "                        \n",
    "    except NoSuchElementException:\n",
    "        pass\n",
    "    except ElementNotVisibleException:\n",
    "        pass                   \n",
    "                    \n",
    "                    \n",
    "    next_buttons = driver.find_elements_by_class_name('_WCg')\n",
    "    for next_button in range(0, len(next_buttons)):\n",
    "        next_buttons = driver.find_elements_by_class_name('_WCg')\n",
    "        if 'Twitter' in driver.title:\n",
    "            driver.back()\n",
    "        if 'Daily Mail' in driver.title:\n",
    "            driver.back()\n",
    "        if 'Google+' in driver.title:\n",
    "            driver.back()\n",
    "        next_buttons[next_button].click()\n",
    "        time.sleep(2)\n",
    "        try:\n",
    "            new_next_button = driver.find_element_by_xpath(\"//a[contains(text(), 'People also search for')]\")\n",
    "            time.sleep(2)\n",
    "            if 'Twitter' in driver.title:\n",
    "                driver.back()\n",
    "            if 'Daily Mail' in driver.title:\n",
    "                driver.back()\n",
    "            if 'Google+' in driver.title:\n",
    "                driver.back()\n",
    "            new_next_button.click()\n",
    "            time.sleep(2)\n",
    "            next_source = driver.page_source\n",
    "            source = next_source.split()\n",
    "            for i in range(len(source)):\n",
    "                if '\"_GCg' in source[i]:\n",
    "                    while 'title' not in source[i]:\n",
    "                        i += 1\n",
    "                        if 'title' in source[i]:\n",
    "                            first = source[i][7:]\n",
    "                            if source[i+1][-1] == '\"':\n",
    "                                last = source[i+1][:-1]\n",
    "                            else:\n",
    "                                last = source[i+1]\n",
    "                            names_next.append([' '.join([first, last]), 3])\n",
    "                            print(len(names_next), 3)\n",
    "                            sys.stdout.flush()\n",
    "                            \n",
    "            driver.back()\n",
    "        except NoSuchElementException:\n",
    "            pass\n",
    "        except ElementNotVisibleException:\n",
    "            pass\n",
    "       \n",
    "    driver.back()\n",
    "    \n",
    "driver.quit()"
   ]
  },
  {
   "cell_type": "code",
   "execution_count": null,
   "metadata": {
    "collapsed": false
   },
   "outputs": [],
   "source": []
  },
  {
   "cell_type": "code",
   "execution_count": 81,
   "metadata": {
    "collapsed": false
   },
   "outputs": [],
   "source": [
    "#first_df\n",
    "#second_df\n",
    "#third_df\n",
    "#fourth_df\n",
    "#fifth_df\n",
    "#sixth_df\n",
    "#seventh_df\n",
    "#eighth_df\n",
    "ninth_df = pd.DataFrame(names_next)\n",
    "ninth_df.to_csv('initial_scrape_one_level_seven.csv')"
   ]
  },
  {
   "cell_type": "code",
   "execution_count": 130,
   "metadata": {
    "collapsed": false
   },
   "outputs": [],
   "source": [
    "frames = [first_df, second_df, third_df, fourth_df, fifth_df, sixth_df, seventh_df, eighth_df, ninth_df]\n",
    "full_df = pd.concat(frames)\n",
    "converted = []\n",
    "full_df = pd.DataFrame(converted)\n",
    "full_df = np.unique(full_df)\n",
    "full_df.shape\n",
    "full_df = pd.DataFrame(full_df)"
   ]
  },
  {
   "cell_type": "code",
   "execution_count": null,
   "metadata": {
    "collapsed": true
   },
   "outputs": [],
   "source": [
    "full = pd.DataFrame(converted)\n",
    "full.to_csv('full.csv')"
   ]
  },
  {
   "cell_type": "code",
   "execution_count": 131,
   "metadata": {
    "collapsed": false
   },
   "outputs": [
    {
     "data": {
      "text/plain": [
       "(1327, 1)"
      ]
     },
     "execution_count": 131,
     "metadata": {},
     "output_type": "execute_result"
    }
   ],
   "source": [
    "full_df.shape"
   ]
  },
  {
   "cell_type": "code",
   "execution_count": 126,
   "metadata": {
    "collapsed": false
   },
   "outputs": [],
   "source": [
    "converted = []\n",
    "for i in full_df[0]:\n",
    "    try:\n",
    "        converted.append(str(i))\n",
    "    except UnicodeEncodeError:\n",
    "        pass"
   ]
  },
  {
   "cell_type": "code",
   "execution_count": 128,
   "metadata": {
    "collapsed": false
   },
   "outputs": [],
   "source": []
  },
  {
   "cell_type": "code",
   "execution_count": null,
   "metadata": {
    "collapsed": true
   },
   "outputs": [],
   "source": []
  }
 ],
 "metadata": {
  "kernelspec": {
   "display_name": "Python 2",
   "language": "python",
   "name": "python2"
  },
  "language_info": {
   "codemirror_mode": {
    "name": "ipython",
    "version": 2
   },
   "file_extension": ".py",
   "mimetype": "text/x-python",
   "name": "python",
   "nbconvert_exporter": "python",
   "pygments_lexer": "ipython2",
   "version": "2.7.9"
  }
 },
 "nbformat": 4,
 "nbformat_minor": 0
}
