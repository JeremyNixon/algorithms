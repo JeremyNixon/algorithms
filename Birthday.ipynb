{
 "metadata": {
  "name": "",
  "signature": "sha256:e350b50804c5dca9288f2eb7ff73476841ed7ec33fd6989e741cf62d7d6aa996"
 },
 "nbformat": 3,
 "nbformat_minor": 0,
 "worksheets": [
  {
   "cells": [
    {
     "cell_type": "code",
     "collapsed": false,
     "input": [
      "import numpy as np\n",
      "\n",
      "# Calculate the probability that nobody shares a birthday. Take 1-x.\n",
      "\n",
      "# Probability that nobody shares a birthday:\n",
      "p = 1 * 364/365 * 364/365 * 363/365\n",
      "\n",
      "prob = 1-p\n",
      "\n",
      "print (364/365)\n"
     ],
     "language": "python",
     "metadata": {},
     "outputs": [
      {
       "output_type": "stream",
       "stream": "stdout",
       "text": [
        "0\n"
       ]
      }
     ],
     "prompt_number": 1
    },
    {
     "cell_type": "code",
     "collapsed": false,
     "input": [],
     "language": "python",
     "metadata": {},
     "outputs": []
    }
   ],
   "metadata": {}
  }
 ]
}